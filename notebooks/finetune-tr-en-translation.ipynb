{
 "cells": [
  {
   "cell_type": "code",
   "execution_count": null,
   "metadata": {},
   "outputs": [],
   "source": [
    "# Copyright 2022 Google LLC\n",
    "#\n",
    "# Licensed under the Apache License, Version 2.0 (the \"License\");\n",
    "# you may not use this file except in compliance with the License.\n",
    "# You may obtain a copy of the License at\n",
    "#\n",
    "#      http://www.apache.org/licenses/LICENSE-2.0\n",
    "#\n",
    "# Unless required by applicable law or agreed to in writing, software\n",
    "# distributed under the License is distributed on an \"AS IS\" BASIS,\n",
    "# WITHOUT WARRANTIES OR CONDITIONS OF ANY KIND, either express or implied.\n",
    "# See the License for the specific language governing permissions and\n",
    "# limitations under the License."
   ]
  },
  {
   "cell_type": "markdown",
   "metadata": {},
   "source": [
    "# Prototype: Turkish-English translation\n",
    "\n",
    "\n",
    "This notebook demonstrates how to fine tune the T5 1.1 small model for the Turkish to English transalation."
   ]
  },
  {
   "cell_type": "markdown",
   "metadata": {},
   "source": [
    "## Imports and initialization"
   ]
  },
  {
   "cell_type": "code",
   "execution_count": 3,
   "metadata": {},
   "outputs": [
    {
     "name": "stdout",
     "output_type": "stream",
     "text": [
      "The autoreload extension is already loaded. To reload it, use:\n",
      "  %reload_ext autoreload\n"
     ]
    }
   ],
   "source": [
    "# reloads modules automatically before executing any code/script\n",
    "%load_ext autoreload\n",
    "%autoreload 2"
   ]
  },
  {
   "cell_type": "markdown",
   "metadata": {},
   "source": [
    "### Import libraries\n",
    "\n",
    "Please refer to the [environment setup](../README.md) section in the README \n",
    "file to setup the development environment and install the required libraries \n",
    "before importing them."
   ]
  },
  {
   "cell_type": "code",
   "execution_count": 4,
   "metadata": {},
   "outputs": [],
   "source": [
    "import os\n",
    "import time\n",
    "from datetime import datetime\n",
    "import pandas as pd\n",
    "\n",
    "import utils\n",
    "\n",
    "# import vertex ai sdk for python\n",
    "from google.cloud import aiplatform as vertex_ai"
   ]
  },
  {
   "cell_type": "markdown",
   "metadata": {},
   "source": [
    "### Configure environment settings\n",
    "\n",
    "\n",
    "- **`PROJECT_ID`:** Configure the Google Cloud Project ID\n",
    "- **`REGION`:** Configure the [region](https://cloud.google.com/vertex-ai/docs/general/locations) \n",
    "  to be used for Vertex AI operations throughout the rest of this notebook\n",
    "- **`BUCKET`:** Google Cloud Storage bucket name to be used by vertex AI for \n",
    "  any operations such as to stage the code, save any  artifacts generated etc.\n",
    "- **`TENSORBOARD_NAME`:** Configure the managed TensorBoard instance name \n",
    "  created during the environment setup."
   ]
  },
  {
   "cell_type": "code",
   "execution_count": null,
   "metadata": {},
   "outputs": [],
   "source": [
    "# Project definitions\n",
    "PROJECT_ID = '<YOUR PROJECT ID>' # Change to your project id.\n",
    "REGION = '<YOUR REGION>'  # Change to your region.\n",
    "\n",
    "# Bucket definitions\n",
    "BUCKET = '<YOUR BUCKET NAME>' # Change to your bucket.\n",
    "\n",
    "# Tensorboard definitions\n",
    "TENSORBOARD_NAME = '<YOUR TENSORBOARD NAME>' # Change to your Tensorboard instance name"
   ]
  },
  {
   "cell_type": "code",
   "execution_count": 5,
   "metadata": {},
   "outputs": [],
   "source": [
    "# Project definitions\n",
    "PROJECT_ID = 'jk-mlops-dev' # Change to your project id.\n",
    "REGION = 'us-central1'  # Change to your region.\n",
    "\n",
    "# Bucket definitions\n",
    "BUCKET = 'jk-t5x-staging' # Change to your bucket.\n",
    "\n",
    "# Tensorboard definitions\n",
    "TENSORBOARD_NAME = 't5x-experiments' # Change to your Tensorboard instance name"
   ]
  },
  {
   "cell_type": "markdown",
   "metadata": {},
   "source": [
    "Get Vertex AI TensorBoard ID based on name."
   ]
  },
  {
   "cell_type": "code",
   "execution_count": 6,
   "metadata": {},
   "outputs": [
    {
     "name": "stdout",
     "output_type": "stream",
     "text": [
      "TENSORBOARD_ID = projects/895222332033/locations/us-central1/tensorboards/2937103421045473280\n"
     ]
    }
   ],
   "source": [
    "TENSORBOARD_ID = ! gcloud ai tensorboards list --filter=\"displayName={TENSORBOARD_NAME}\" --format=\"value(name)\" --region={REGION} 2>/dev/null \n",
    "TENSORBOARD_ID = TENSORBOARD_ID[0]\n",
    "\n",
    "print(f\"TENSORBOARD_ID = {TENSORBOARD_ID}\")"
   ]
  },
  {
   "cell_type": "markdown",
   "metadata": {},
   "source": [
    "### Configure custom container image\n",
    "\n",
    "In this example, you use the base T5X custom training container."
   ]
  },
  {
   "cell_type": "code",
   "execution_count": 7,
   "metadata": {},
   "outputs": [],
   "source": [
    "IMAGE_NAME = 't5x-base' \n",
    "IMAGE_URI = f'gcr.io/{PROJECT_ID}/{IMAGE_NAME}'"
   ]
  },
  {
   "cell_type": "markdown",
   "metadata": {},
   "source": [
    "Validate image exists in the Container Registry"
   ]
  },
  {
   "cell_type": "code",
   "execution_count": 8,
   "metadata": {},
   "outputs": [
    {
     "name": "stdout",
     "output_type": "stream",
     "text": [
      "\u001b[1;33mWARNING:\u001b[0m Successfully resolved tag to sha256, but it is recommended to use sha256 directly.\n",
      "image_summary:\n",
      "  digest: sha256:e4d0c053d27a8d5398457a292eb14b43cb6c43ec79fc2e31d8bace48e0853082\n",
      "  fully_qualified_digest: gcr.io/jk-mlops-dev/t5x-base@sha256:e4d0c053d27a8d5398457a292eb14b43cb6c43ec79fc2e31d8bace48e0853082\n",
      "  registry: gcr.io\n",
      "  repository: jk-mlops-dev/t5x-base\n"
     ]
    }
   ],
   "source": [
    "! gcloud container images describe $IMAGE_URI"
   ]
  },
  {
   "cell_type": "markdown",
   "metadata": {},
   "source": [
    "### Configure experiment settings\n"
   ]
  },
  {
   "cell_type": "code",
   "execution_count": 9,
   "metadata": {},
   "outputs": [],
   "source": [
    "EXPERIMENT_NAME = 'tr-en-1' # Change to your experiment name\n",
    "\n",
    "EXPERIMENT_WORKSPACE = f'gs://{BUCKET}/experiments/{EXPERIMENT_NAME}'\n",
    "EXPERIMENT_RUNS = f'{EXPERIMENT_WORKSPACE}/runs'"
   ]
  },
  {
   "cell_type": "markdown",
   "metadata": {},
   "source": [
    "### Initialize Vertex AI SDK for Python\n"
   ]
  },
  {
   "cell_type": "code",
   "execution_count": 10,
   "metadata": {},
   "outputs": [],
   "source": [
    "vertex_ai.init(\n",
    "    project=PROJECT_ID,\n",
    "    location=REGION,\n",
    "    staging_bucket=EXPERIMENT_WORKSPACE,\n",
    "    experiment=EXPERIMENT_NAME\n",
    ")"
   ]
  },
  {
   "cell_type": "markdown",
   "metadata": {},
   "source": [
    "### Configure dataset location\n"
   ]
  },
  {
   "cell_type": "code",
   "execution_count": 11,
   "metadata": {},
   "outputs": [],
   "source": [
    "TFDS_DATA_DIR = f'gs://{BUCKET}/datasets'"
   ]
  },
  {
   "cell_type": "markdown",
   "metadata": {},
   "source": [
    "## Run fine-tuning job\n",
    "### Define the job's gin file\n",
    "\n",
    "This job is configured using the following Gin file."
   ]
  },
  {
   "cell_type": "code",
   "execution_count": 12,
   "metadata": {},
   "outputs": [
    {
     "name": "stdout",
     "output_type": "stream",
     "text": [
      "from __gin__ import dynamic_registration\n",
      "\n",
      "import __main__ as train_script\n",
      "from t5.data import mixtures\n",
      "from t5x import models\n",
      "from t5x import partitioning\n",
      "from t5x import utils\n",
      "\n",
      "import custom_tasks\n",
      "\n",
      "include \"t5x/examples/t5/t5_1_1/base.gin\"\n",
      "include \"t5x/configs/runs/finetune.gin\"\n",
      "\n",
      "\n",
      "TASK_FEATURE_LENGTHS = {\"inputs\": 256, \"targets\": 256}\n",
      "TRAIN_STEPS = 1_001_000  # 1000000 pre-trained steps + 1000 fine-tuning steps.\n",
      "DROPOUT_RATE = 0.0\n",
      "INITIAL_CHECKPOINT_PATH = \"gs://t5-data/pretrained_models/t5x/t5_1_1_base/checkpoint_1000000\"\n",
      "LOSS_NORMALIZING_FACTOR = 233472\n",
      "EVAL_PERIOD = 200\n",
      "\n",
      "BATCH_SIZE = 128\n",
      "\n",
      "TRAIN_PATH = %gin.REQUIRED\n",
      "VALIDATION_PATH = %gin.REQUIRED\n",
      "MIXTURE_OR_TASK_NAME = @custom_tasks.register_tr_en_task()\n",
      "custom_tasks.register_tr_en_task:\n",
      "    task_name = \"translate_tr_en\"\n",
      "    train_path = %TRAIN_PATH\n",
      "    valid_path = %VALIDATION_PATH\n",
      "\n"
     ]
    }
   ],
   "source": [
    "JOB_GIN_FILE = '../configs/finetune_t511_base_tr_en.gin'\n",
    "\n",
    "!cat {JOB_GIN_FILE}"
   ]
  },
  {
   "cell_type": "code",
   "execution_count": 29,
   "metadata": {},
   "outputs": [],
   "source": [
    "TRAIN_PATH = 'gs://jk-t5x-staging/datasets/turkish-english/train.tfrecords'\n",
    "VALIDATION_PATH = 'gs://jk-t5x-staging/datasets/turkish-english/eval.tfrecords'\n",
    "\n",
    "GIN_FILES = [JOB_GIN_FILE]  \n",
    "GIN_OVERWRITES = [\n",
    "        'USE_CACHED_TASKS=False',\n",
    "        f'TRAIN_PATH=\"{TRAIN_PATH}\"',\n",
    "        f'VALIDATION_PATH=\"{VALIDATION_PATH}\"',\n",
    "    ]"
   ]
  },
  {
   "cell_type": "markdown",
   "metadata": {},
   "source": [
    "### Configure Vertex AI CustomJob"
   ]
  },
  {
   "cell_type": "code",
   "execution_count": 30,
   "metadata": {},
   "outputs": [],
   "source": [
    "RUN_NAME = f'<YOUR RUN NAME>' # Change to your run name for the custom job\n",
    "RUN_ID = f'{EXPERIMENT_NAME}-{RUN_NAME}-{datetime.now().strftime(\"%Y%m%d%H%M\")}'\n",
    "RUN_DIR = f'{EXPERIMENT_RUNS}/{RUN_ID}'\n",
    "RUN_MODE = 'train'"
   ]
  },
  {
   "cell_type": "code",
   "execution_count": 31,
   "metadata": {},
   "outputs": [],
   "source": [
    "RUN_NAME = f'run-1' # Change to your run name for the custom job\n",
    "RUN_ID = f'{EXPERIMENT_NAME}-{RUN_NAME}-{datetime.now().strftime(\"%Y%m%d%H%M\")}'\n",
    "RUN_DIR = f'{EXPERIMENT_RUNS}/{RUN_ID}'\n",
    "RUN_MODE = 'train'"
   ]
  },
  {
   "cell_type": "markdown",
   "metadata": {},
   "source": [
    "Log local variables defined for any troubleshooting"
   ]
  },
  {
   "cell_type": "code",
   "execution_count": 32,
   "metadata": {},
   "outputs": [
    {
     "name": "stdout",
     "output_type": "stream",
     "text": [
      "PROJECT_ID=jk-mlops-dev\n",
      "REGION=us-central1\n",
      "BUCKET=jk-t5x-staging\n",
      "TENSORBOARD_NAME=t5x-experiments\n",
      "TENSORBOARD_ID=projects/895222332033/locations/us-central1/tensorboards/2937103421045473280\n",
      "IMAGE_NAME=t5x-base\n",
      "IMAGE_URI=gcr.io/jk-mlops-dev/t5x-base\n",
      "EXPERIMENT_NAME=tr-en-1\n",
      "EXPERIMENT_WORKSPACE=gs://jk-t5x-staging/experiments/tr-en-1\n",
      "EXPERIMENT_RUNS=gs://jk-t5x-staging/experiments/tr-en-1/runs\n",
      "TFDS_DATA_DIR=gs://jk-t5x-staging/datasets\n",
      "GIN_FILES=['../configs/finetune_t511_base_tr_en.gin']\n",
      "GIN_OVERWRITES=['USE_CACHED_TASKS=False', 'TRAIN_PATH=\"gs://jk-t5x-staging/datasets/turkish-english/train.tfrecords\"', 'VALIDATION_PATH=\"gs://jk-t5x-staging/datasets/turkish-english/eval.tfrecords\"']\n",
      "RUN_NAME=run-1\n",
      "RUN_ID=tr-en-1-run-1-202209071535\n",
      "RUN_DIR=gs://jk-t5x-staging/experiments/tr-en-1/runs/tr-en-1-run-1-202209071535\n",
      "RUN_MODE=train\n"
     ]
    }
   ],
   "source": [
    "for key in [\n",
    "    \"PROJECT_ID\", \"REGION\", \"BUCKET\", \"TENSORBOARD_NAME\", \"TENSORBOARD_ID\", \n",
    "    \"IMAGE_NAME\", \"IMAGE_URI\", \n",
    "    \"EXPERIMENT_NAME\", \"EXPERIMENT_WORKSPACE\", \"EXPERIMENT_RUNS\", \n",
    "    \"TFDS_DATA_DIR\", \"GIN_FILES\", \"GIN_OVERWRITES\", \n",
    "    \"RUN_NAME\", \"RUN_ID\", \"RUN_DIR\", \"RUN_MODE\"\n",
    "]:\n",
    "    print(f\"{key}={eval(key)}\")"
   ]
  },
  {
   "cell_type": "markdown",
   "metadata": {},
   "source": [
    "Configure a Cloud TPU slice for the job. Double check if your [region](https://cloud.google.com/vertex-ai/docs/general/locations#accelerators) supports the specified TPU topology."
   ]
  },
  {
   "cell_type": "code",
   "execution_count": 33,
   "metadata": {},
   "outputs": [],
   "source": [
    "MACHINE_TYPE = 'cloud-tpu'\n",
    "ACCELERATOR_TYPE = 'TPU_V2'\n",
    "ACCELERATOR_COUNT = 8"
   ]
  },
  {
   "cell_type": "markdown",
   "metadata": {},
   "source": [
    "Create the custom job spec"
   ]
  },
  {
   "cell_type": "code",
   "execution_count": 34,
   "metadata": {},
   "outputs": [
    {
     "data": {
      "text/plain": [
       "worker_pool_specs {\n",
       "  machine_spec {\n",
       "    machine_type: \"cloud-tpu\"\n",
       "    accelerator_type: TPU_V2\n",
       "    accelerator_count: 8\n",
       "  }\n",
       "  replica_count: 1\n",
       "  container_spec {\n",
       "    image_uri: \"gcr.io/jk-mlops-dev/t5x-base\"\n",
       "    args: \"--run_mode=train\"\n",
       "    args: \"--gin.MODEL_DIR=\\\"gs://jk-t5x-staging/experiments/tr-en-1/runs/tr-en-1-run-1-202209071535\\\"\"\n",
       "    args: \"--tfds_data_dir=gs://jk-t5x-staging/datasets\"\n",
       "    args: \"--gin_file=/gcs/jk-t5x-staging/experiments/tr-en-1/runs/tr-en-1-run-1-202209071535/finetune_t511_base_tr_en.gin\"\n",
       "    args: \"--gin.USE_CACHED_TASKS=False\"\n",
       "    args: \"--gin.TRAIN_PATH=\\\"gs://jk-t5x-staging/datasets/turkish-english/train.tfrecords\\\"\"\n",
       "    args: \"--gin.VALIDATION_PATH=\\\"gs://jk-t5x-staging/datasets/turkish-english/eval.tfrecords\\\"\"\n",
       "  }\n",
       "}\n",
       "base_output_directory {\n",
       "  output_uri_prefix: \"gs://jk-t5x-staging/experiments/tr-en-1/aiplatform-custom-job-2022-09-07-15:35:44.156\"\n",
       "}"
      ]
     },
     "execution_count": 34,
     "metadata": {},
     "output_type": "execute_result"
    }
   ],
   "source": [
    "job = utils.create_t5x_custom_job(\n",
    "    display_name=RUN_ID,\n",
    "    machine_type=MACHINE_TYPE,\n",
    "    accelerator_type=ACCELERATOR_TYPE,\n",
    "    accelerator_count=ACCELERATOR_COUNT,\n",
    "    image_uri=IMAGE_URI,\n",
    "    run_mode=RUN_MODE,\n",
    "    gin_files=GIN_FILES,\n",
    "    model_dir=RUN_DIR,\n",
    "    tfds_data_dir=TFDS_DATA_DIR,\n",
    "    gin_overwrites=GIN_OVERWRITES\n",
    ")\n",
    "\n",
    "job.job_spec"
   ]
  },
  {
   "cell_type": "markdown",
   "metadata": {},
   "source": [
    "### Submit the custom job to Vertex AI and track the experiment\n"
   ]
  },
  {
   "cell_type": "code",
   "execution_count": 35,
   "metadata": {},
   "outputs": [
    {
     "name": "stdout",
     "output_type": "stream",
     "text": [
      "Creating CustomJob\n",
      "CustomJob created. Resource name: projects/895222332033/locations/us-central1/customJobs/1355169246832754688\n",
      "To use this CustomJob in another session:\n",
      "custom_job = aiplatform.CustomJob.get('projects/895222332033/locations/us-central1/customJobs/1355169246832754688')\n",
      "View Custom Job:\n",
      "https://console.cloud.google.com/ai/platform/locations/us-central1/training/1355169246832754688?project=895222332033\n",
      "Job still pending. Waiting additional 15 seconds.\n",
      "CustomJob projects/895222332033/locations/us-central1/customJobs/1355169246832754688 current state:\n",
      "JobState.JOB_STATE_PENDING\n",
      "CustomJob projects/895222332033/locations/us-central1/customJobs/1355169246832754688 current state:\n",
      "JobState.JOB_STATE_PENDING\n",
      "CustomJob projects/895222332033/locations/us-central1/customJobs/1355169246832754688 current state:\n",
      "JobState.JOB_STATE_PENDING\n",
      "Job still pending. Waiting additional 15 seconds.\n",
      "CustomJob projects/895222332033/locations/us-central1/customJobs/1355169246832754688 current state:\n",
      "JobState.JOB_STATE_PENDING\n",
      "CustomJob projects/895222332033/locations/us-central1/customJobs/1355169246832754688 current state:\n",
      "JobState.JOB_STATE_PENDING\n",
      "CustomJob projects/895222332033/locations/us-central1/customJobs/1355169246832754688 current state:\n",
      "JobState.JOB_STATE_PENDING\n",
      "Job still pending. Waiting additional 15 seconds.\n",
      "CustomJob projects/895222332033/locations/us-central1/customJobs/1355169246832754688 current state:\n",
      "JobState.JOB_STATE_PENDING\n",
      "CustomJob projects/895222332033/locations/us-central1/customJobs/1355169246832754688 current state:\n",
      "JobState.JOB_STATE_PENDING\n",
      "CustomJob projects/895222332033/locations/us-central1/customJobs/1355169246832754688 current state:\n",
      "JobState.JOB_STATE_PENDING\n",
      "Job still pending. Waiting additional 15 seconds.\n",
      "CustomJob projects/895222332033/locations/us-central1/customJobs/1355169246832754688 current state:\n",
      "JobState.JOB_STATE_PENDING\n",
      "CustomJob projects/895222332033/locations/us-central1/customJobs/1355169246832754688 current state:\n",
      "JobState.JOB_STATE_PENDING\n",
      "CustomJob projects/895222332033/locations/us-central1/customJobs/1355169246832754688 current state:\n",
      "JobState.JOB_STATE_PENDING\n",
      "Job still pending. Waiting additional 15 seconds.\n",
      "CustomJob projects/895222332033/locations/us-central1/customJobs/1355169246832754688 current state:\n",
      "JobState.JOB_STATE_PENDING\n",
      "CustomJob projects/895222332033/locations/us-central1/customJobs/1355169246832754688 current state:\n",
      "JobState.JOB_STATE_PENDING\n",
      "CustomJob projects/895222332033/locations/us-central1/customJobs/1355169246832754688 current state:\n",
      "JobState.JOB_STATE_PENDING\n",
      "Job still pending. Waiting additional 15 seconds.\n",
      "CustomJob projects/895222332033/locations/us-central1/customJobs/1355169246832754688 current state:\n",
      "JobState.JOB_STATE_PENDING\n",
      "CustomJob projects/895222332033/locations/us-central1/customJobs/1355169246832754688 current state:\n",
      "JobState.JOB_STATE_PENDING\n",
      "CustomJob projects/895222332033/locations/us-central1/customJobs/1355169246832754688 current state:\n",
      "JobState.JOB_STATE_PENDING\n",
      "Job still pending. Waiting additional 15 seconds.\n",
      "CustomJob projects/895222332033/locations/us-central1/customJobs/1355169246832754688 current state:\n",
      "JobState.JOB_STATE_PENDING\n",
      "CustomJob projects/895222332033/locations/us-central1/customJobs/1355169246832754688 current state:\n",
      "JobState.JOB_STATE_PENDING\n",
      "Job still pending. Waiting additional 15 seconds.\n",
      "CustomJob projects/895222332033/locations/us-central1/customJobs/1355169246832754688 current state:\n",
      "JobState.JOB_STATE_PENDING\n",
      "CustomJob projects/895222332033/locations/us-central1/customJobs/1355169246832754688 current state:\n",
      "JobState.JOB_STATE_PENDING\n",
      "CustomJob projects/895222332033/locations/us-central1/customJobs/1355169246832754688 current state:\n",
      "JobState.JOB_STATE_PENDING\n",
      "Job still pending. Waiting additional 15 seconds.\n",
      "CustomJob projects/895222332033/locations/us-central1/customJobs/1355169246832754688 current state:\n",
      "JobState.JOB_STATE_PENDING\n",
      "CustomJob projects/895222332033/locations/us-central1/customJobs/1355169246832754688 current state:\n",
      "JobState.JOB_STATE_PENDING\n",
      "CustomJob projects/895222332033/locations/us-central1/customJobs/1355169246832754688 current state:\n",
      "JobState.JOB_STATE_PENDING\n",
      "Job still pending. Waiting additional 15 seconds.\n",
      "CustomJob projects/895222332033/locations/us-central1/customJobs/1355169246832754688 current state:\n",
      "JobState.JOB_STATE_PENDING\n",
      "CustomJob projects/895222332033/locations/us-central1/customJobs/1355169246832754688 current state:\n",
      "JobState.JOB_STATE_PENDING\n",
      "CustomJob projects/895222332033/locations/us-central1/customJobs/1355169246832754688 current state:\n",
      "JobState.JOB_STATE_PENDING\n",
      "Job still pending. Waiting additional 15 seconds.\n",
      "CustomJob projects/895222332033/locations/us-central1/customJobs/1355169246832754688 current state:\n",
      "JobState.JOB_STATE_PENDING\n",
      "CustomJob projects/895222332033/locations/us-central1/customJobs/1355169246832754688 current state:\n",
      "JobState.JOB_STATE_PENDING\n",
      "CustomJob projects/895222332033/locations/us-central1/customJobs/1355169246832754688 current state:\n",
      "JobState.JOB_STATE_PENDING\n",
      "Job still pending. Waiting additional 15 seconds.\n",
      "CustomJob projects/895222332033/locations/us-central1/customJobs/1355169246832754688 current state:\n",
      "JobState.JOB_STATE_PENDING\n",
      "CustomJob projects/895222332033/locations/us-central1/customJobs/1355169246832754688 current state:\n",
      "JobState.JOB_STATE_PENDING\n",
      "CustomJob projects/895222332033/locations/us-central1/customJobs/1355169246832754688 current state:\n",
      "JobState.JOB_STATE_PENDING\n",
      "Job still pending. Waiting additional 15 seconds.\n",
      "CustomJob projects/895222332033/locations/us-central1/customJobs/1355169246832754688 current state:\n",
      "JobState.JOB_STATE_PENDING\n",
      "CustomJob projects/895222332033/locations/us-central1/customJobs/1355169246832754688 current state:\n",
      "JobState.JOB_STATE_PENDING\n",
      "CustomJob projects/895222332033/locations/us-central1/customJobs/1355169246832754688 current state:\n",
      "JobState.JOB_STATE_PENDING\n",
      "Job still pending. Waiting additional 15 seconds.\n",
      "CustomJob projects/895222332033/locations/us-central1/customJobs/1355169246832754688 current state:\n",
      "JobState.JOB_STATE_PENDING\n",
      "CustomJob projects/895222332033/locations/us-central1/customJobs/1355169246832754688 current state:\n",
      "JobState.JOB_STATE_PENDING\n",
      "CustomJob projects/895222332033/locations/us-central1/customJobs/1355169246832754688 current state:\n",
      "JobState.JOB_STATE_PENDING\n",
      "Job still pending. Waiting additional 15 seconds.\n",
      "CustomJob projects/895222332033/locations/us-central1/customJobs/1355169246832754688 current state:\n",
      "JobState.JOB_STATE_PENDING\n",
      "CustomJob projects/895222332033/locations/us-central1/customJobs/1355169246832754688 current state:\n",
      "JobState.JOB_STATE_PENDING\n",
      "CustomJob projects/895222332033/locations/us-central1/customJobs/1355169246832754688 current state:\n",
      "JobState.JOB_STATE_PENDING\n",
      "Job still pending. Waiting additional 15 seconds.\n",
      "CustomJob projects/895222332033/locations/us-central1/customJobs/1355169246832754688 current state:\n",
      "JobState.JOB_STATE_PENDING\n",
      "CustomJob projects/895222332033/locations/us-central1/customJobs/1355169246832754688 current state:\n",
      "JobState.JOB_STATE_PENDING\n",
      "CustomJob projects/895222332033/locations/us-central1/customJobs/1355169246832754688 current state:\n",
      "JobState.JOB_STATE_PENDING\n",
      "Job still pending. Waiting additional 15 seconds.\n",
      "CustomJob projects/895222332033/locations/us-central1/customJobs/1355169246832754688 current state:\n",
      "JobState.JOB_STATE_PENDING\n",
      "CustomJob projects/895222332033/locations/us-central1/customJobs/1355169246832754688 current state:\n",
      "JobState.JOB_STATE_PENDING\n",
      "CustomJob projects/895222332033/locations/us-central1/customJobs/1355169246832754688 current state:\n",
      "JobState.JOB_STATE_PENDING\n",
      "Job still pending. Waiting additional 15 seconds.\n",
      "CustomJob projects/895222332033/locations/us-central1/customJobs/1355169246832754688 current state:\n",
      "JobState.JOB_STATE_PENDING\n",
      "CustomJob projects/895222332033/locations/us-central1/customJobs/1355169246832754688 current state:\n",
      "JobState.JOB_STATE_PENDING\n",
      "CustomJob projects/895222332033/locations/us-central1/customJobs/1355169246832754688 current state:\n",
      "JobState.JOB_STATE_PENDING\n",
      "Job still pending. Waiting additional 15 seconds.\n",
      "CustomJob projects/895222332033/locations/us-central1/customJobs/1355169246832754688 current state:\n",
      "JobState.JOB_STATE_PENDING\n",
      "CustomJob projects/895222332033/locations/us-central1/customJobs/1355169246832754688 current state:\n",
      "JobState.JOB_STATE_PENDING\n",
      "CustomJob projects/895222332033/locations/us-central1/customJobs/1355169246832754688 current state:\n",
      "JobState.JOB_STATE_PENDING\n",
      "Job still pending. Waiting additional 15 seconds.\n",
      "CustomJob projects/895222332033/locations/us-central1/customJobs/1355169246832754688 current state:\n",
      "JobState.JOB_STATE_PENDING\n",
      "CustomJob projects/895222332033/locations/us-central1/customJobs/1355169246832754688 current state:\n",
      "JobState.JOB_STATE_PENDING\n",
      "CustomJob projects/895222332033/locations/us-central1/customJobs/1355169246832754688 current state:\n",
      "JobState.JOB_STATE_PENDING\n",
      "Job still pending. Waiting additional 15 seconds.\n",
      "CustomJob projects/895222332033/locations/us-central1/customJobs/1355169246832754688 current state:\n",
      "JobState.JOB_STATE_PENDING\n",
      "CustomJob projects/895222332033/locations/us-central1/customJobs/1355169246832754688 current state:\n",
      "JobState.JOB_STATE_PENDING\n",
      "CustomJob projects/895222332033/locations/us-central1/customJobs/1355169246832754688 current state:\n",
      "JobState.JOB_STATE_PENDING\n",
      "Job still pending. Waiting additional 15 seconds.\n",
      "CustomJob projects/895222332033/locations/us-central1/customJobs/1355169246832754688 current state:\n",
      "JobState.JOB_STATE_PENDING\n",
      "CustomJob projects/895222332033/locations/us-central1/customJobs/1355169246832754688 current state:\n",
      "JobState.JOB_STATE_PENDING\n",
      "CustomJob projects/895222332033/locations/us-central1/customJobs/1355169246832754688 current state:\n",
      "JobState.JOB_STATE_PENDING\n",
      "Job still pending. Waiting additional 15 seconds.\n",
      "CustomJob projects/895222332033/locations/us-central1/customJobs/1355169246832754688 current state:\n",
      "JobState.JOB_STATE_PENDING\n",
      "CustomJob projects/895222332033/locations/us-central1/customJobs/1355169246832754688 current state:\n",
      "JobState.JOB_STATE_RUNNING\n",
      "CustomJob projects/895222332033/locations/us-central1/customJobs/1355169246832754688 current state:\n",
      "JobState.JOB_STATE_RUNNING\n",
      "Vertex AI training job has started.\n",
      "Waiting for config files to be generated.\n",
      "CustomJob projects/895222332033/locations/us-central1/customJobs/1355169246832754688 current state:\n",
      "JobState.JOB_STATE_RUNNING\n",
      "CustomJob projects/895222332033/locations/us-central1/customJobs/1355169246832754688 current state:\n",
      "JobState.JOB_STATE_RUNNING\n",
      "Waiting for config files to be generated.\n",
      "Waiting additional 10 seconds.\n",
      "CustomJob projects/895222332033/locations/us-central1/customJobs/1355169246832754688 current state:\n",
      "JobState.JOB_STATE_RUNNING\n",
      "CustomJob projects/895222332033/locations/us-central1/customJobs/1355169246832754688 current state:\n",
      "JobState.JOB_STATE_RUNNING\n",
      "Waiting for config files to be generated.\n",
      "Waiting additional 10 seconds.\n",
      "CustomJob projects/895222332033/locations/us-central1/customJobs/1355169246832754688 current state:\n",
      "JobState.JOB_STATE_RUNNING\n",
      "CustomJob projects/895222332033/locations/us-central1/customJobs/1355169246832754688 current state:\n",
      "JobState.JOB_STATE_RUNNING\n",
      "Waiting for config files to be generated.\n",
      "Waiting additional 10 seconds.\n",
      "Associating projects/895222332033/locations/us-central1/metadataStores/default/contexts/tr-en-1-tr-en-1-run-1-202209071535 to Experiment: tr-en-1\n",
      "Creating artifacts.\n",
      "CustomJob projects/895222332033/locations/us-central1/customJobs/1355169246832754688 current state:\n",
      "JobState.JOB_STATE_RUNNING\n",
      "Artifacts were created. Training job is still running.\n",
      "CustomJob projects/895222332033/locations/us-central1/customJobs/1355169246832754688 current state:\n",
      "JobState.JOB_STATE_RUNNING\n",
      "CustomJob projects/895222332033/locations/us-central1/customJobs/1355169246832754688 current state:\n",
      "JobState.JOB_STATE_RUNNING\n",
      "CustomJob projects/895222332033/locations/us-central1/customJobs/1355169246832754688 current state:\n",
      "JobState.JOB_STATE_RUNNING\n",
      "CustomJob projects/895222332033/locations/us-central1/customJobs/1355169246832754688 current state:\n",
      "JobState.JOB_STATE_RUNNING\n",
      "CustomJob projects/895222332033/locations/us-central1/customJobs/1355169246832754688 current state:\n",
      "JobState.JOB_STATE_RUNNING\n",
      "CustomJob projects/895222332033/locations/us-central1/customJobs/1355169246832754688 current state:\n",
      "JobState.JOB_STATE_RUNNING\n",
      "CustomJob projects/895222332033/locations/us-central1/customJobs/1355169246832754688 current state:\n",
      "JobState.JOB_STATE_RUNNING\n",
      "CustomJob projects/895222332033/locations/us-central1/customJobs/1355169246832754688 current state:\n",
      "JobState.JOB_STATE_RUNNING\n",
      "CustomJob projects/895222332033/locations/us-central1/customJobs/1355169246832754688 current state:\n",
      "JobState.JOB_STATE_RUNNING\n",
      "CustomJob projects/895222332033/locations/us-central1/customJobs/1355169246832754688 current state:\n",
      "JobState.JOB_STATE_RUNNING\n",
      "CustomJob projects/895222332033/locations/us-central1/customJobs/1355169246832754688 current state:\n",
      "JobState.JOB_STATE_RUNNING\n",
      "CustomJob projects/895222332033/locations/us-central1/customJobs/1355169246832754688 current state:\n",
      "JobState.JOB_STATE_RUNNING\n",
      "CustomJob projects/895222332033/locations/us-central1/customJobs/1355169246832754688 current state:\n",
      "JobState.JOB_STATE_RUNNING\n",
      "CustomJob projects/895222332033/locations/us-central1/customJobs/1355169246832754688 current state:\n",
      "JobState.JOB_STATE_RUNNING\n",
      "CustomJob projects/895222332033/locations/us-central1/customJobs/1355169246832754688 current state:\n",
      "JobState.JOB_STATE_RUNNING\n",
      "CustomJob projects/895222332033/locations/us-central1/customJobs/1355169246832754688 current state:\n",
      "JobState.JOB_STATE_RUNNING\n",
      "CustomJob projects/895222332033/locations/us-central1/customJobs/1355169246832754688 current state:\n",
      "JobState.JOB_STATE_RUNNING\n",
      "CustomJob projects/895222332033/locations/us-central1/customJobs/1355169246832754688 current state:\n",
      "JobState.JOB_STATE_RUNNING\n",
      "CustomJob projects/895222332033/locations/us-central1/customJobs/1355169246832754688 current state:\n",
      "JobState.JOB_STATE_RUNNING\n",
      "CustomJob projects/895222332033/locations/us-central1/customJobs/1355169246832754688 current state:\n",
      "JobState.JOB_STATE_RUNNING\n",
      "CustomJob projects/895222332033/locations/us-central1/customJobs/1355169246832754688 current state:\n",
      "JobState.JOB_STATE_RUNNING\n",
      "CustomJob projects/895222332033/locations/us-central1/customJobs/1355169246832754688 current state:\n",
      "JobState.JOB_STATE_RUNNING\n",
      "CustomJob projects/895222332033/locations/us-central1/customJobs/1355169246832754688 current state:\n",
      "JobState.JOB_STATE_RUNNING\n",
      "CustomJob projects/895222332033/locations/us-central1/customJobs/1355169246832754688 current state:\n",
      "JobState.JOB_STATE_RUNNING\n",
      "CustomJob projects/895222332033/locations/us-central1/customJobs/1355169246832754688 current state:\n",
      "JobState.JOB_STATE_RUNNING\n",
      "CustomJob projects/895222332033/locations/us-central1/customJobs/1355169246832754688 current state:\n",
      "JobState.JOB_STATE_RUNNING\n",
      "CustomJob projects/895222332033/locations/us-central1/customJobs/1355169246832754688 current state:\n",
      "JobState.JOB_STATE_RUNNING\n",
      "CustomJob projects/895222332033/locations/us-central1/customJobs/1355169246832754688 current state:\n",
      "JobState.JOB_STATE_RUNNING\n",
      "CustomJob projects/895222332033/locations/us-central1/customJobs/1355169246832754688 current state:\n",
      "JobState.JOB_STATE_RUNNING\n",
      "CustomJob projects/895222332033/locations/us-central1/customJobs/1355169246832754688 current state:\n",
      "JobState.JOB_STATE_RUNNING\n",
      "CustomJob projects/895222332033/locations/us-central1/customJobs/1355169246832754688 current state:\n",
      "JobState.JOB_STATE_RUNNING\n",
      "CustomJob projects/895222332033/locations/us-central1/customJobs/1355169246832754688 current state:\n",
      "JobState.JOB_STATE_RUNNING\n",
      "CustomJob projects/895222332033/locations/us-central1/customJobs/1355169246832754688 current state:\n",
      "JobState.JOB_STATE_RUNNING\n",
      "CustomJob projects/895222332033/locations/us-central1/customJobs/1355169246832754688 current state:\n",
      "JobState.JOB_STATE_RUNNING\n",
      "CustomJob projects/895222332033/locations/us-central1/customJobs/1355169246832754688 current state:\n",
      "JobState.JOB_STATE_RUNNING\n",
      "CustomJob projects/895222332033/locations/us-central1/customJobs/1355169246832754688 current state:\n",
      "JobState.JOB_STATE_RUNNING\n",
      "CustomJob projects/895222332033/locations/us-central1/customJobs/1355169246832754688 current state:\n",
      "JobState.JOB_STATE_RUNNING\n",
      "CustomJob projects/895222332033/locations/us-central1/customJobs/1355169246832754688 current state:\n",
      "JobState.JOB_STATE_RUNNING\n",
      "CustomJob projects/895222332033/locations/us-central1/customJobs/1355169246832754688 current state:\n",
      "JobState.JOB_STATE_RUNNING\n",
      "CustomJob projects/895222332033/locations/us-central1/customJobs/1355169246832754688 current state:\n",
      "JobState.JOB_STATE_RUNNING\n",
      "CustomJob projects/895222332033/locations/us-central1/customJobs/1355169246832754688 current state:\n",
      "JobState.JOB_STATE_RUNNING\n",
      "CustomJob projects/895222332033/locations/us-central1/customJobs/1355169246832754688 current state:\n",
      "JobState.JOB_STATE_RUNNING\n",
      "CustomJob projects/895222332033/locations/us-central1/customJobs/1355169246832754688 current state:\n",
      "JobState.JOB_STATE_RUNNING\n",
      "CustomJob projects/895222332033/locations/us-central1/customJobs/1355169246832754688 current state:\n",
      "JobState.JOB_STATE_RUNNING\n",
      "CustomJob projects/895222332033/locations/us-central1/customJobs/1355169246832754688 current state:\n",
      "JobState.JOB_STATE_RUNNING\n",
      "CustomJob projects/895222332033/locations/us-central1/customJobs/1355169246832754688 current state:\n",
      "JobState.JOB_STATE_RUNNING\n",
      "CustomJob projects/895222332033/locations/us-central1/customJobs/1355169246832754688 current state:\n",
      "JobState.JOB_STATE_RUNNING\n",
      "CustomJob projects/895222332033/locations/us-central1/customJobs/1355169246832754688 current state:\n",
      "JobState.JOB_STATE_RUNNING\n",
      "CustomJob projects/895222332033/locations/us-central1/customJobs/1355169246832754688 current state:\n",
      "JobState.JOB_STATE_RUNNING\n",
      "CustomJob projects/895222332033/locations/us-central1/customJobs/1355169246832754688 current state:\n",
      "JobState.JOB_STATE_RUNNING\n",
      "CustomJob projects/895222332033/locations/us-central1/customJobs/1355169246832754688 current state:\n",
      "JobState.JOB_STATE_RUNNING\n",
      "CustomJob projects/895222332033/locations/us-central1/customJobs/1355169246832754688 current state:\n",
      "JobState.JOB_STATE_RUNNING\n",
      "CustomJob projects/895222332033/locations/us-central1/customJobs/1355169246832754688 current state:\n",
      "JobState.JOB_STATE_RUNNING\n",
      "CustomJob projects/895222332033/locations/us-central1/customJobs/1355169246832754688 current state:\n",
      "JobState.JOB_STATE_RUNNING\n",
      "CustomJob projects/895222332033/locations/us-central1/customJobs/1355169246832754688 current state:\n",
      "JobState.JOB_STATE_RUNNING\n",
      "CustomJob projects/895222332033/locations/us-central1/customJobs/1355169246832754688 current state:\n",
      "JobState.JOB_STATE_RUNNING\n",
      "CustomJob projects/895222332033/locations/us-central1/customJobs/1355169246832754688 current state:\n",
      "JobState.JOB_STATE_RUNNING\n",
      "CustomJob projects/895222332033/locations/us-central1/customJobs/1355169246832754688 current state:\n",
      "JobState.JOB_STATE_RUNNING\n",
      "CustomJob projects/895222332033/locations/us-central1/customJobs/1355169246832754688 current state:\n",
      "JobState.JOB_STATE_RUNNING\n",
      "CustomJob projects/895222332033/locations/us-central1/customJobs/1355169246832754688 current state:\n",
      "JobState.JOB_STATE_RUNNING\n",
      "CustomJob projects/895222332033/locations/us-central1/customJobs/1355169246832754688 current state:\n",
      "JobState.JOB_STATE_RUNNING\n",
      "CustomJob projects/895222332033/locations/us-central1/customJobs/1355169246832754688 current state:\n",
      "JobState.JOB_STATE_RUNNING\n",
      "CustomJob projects/895222332033/locations/us-central1/customJobs/1355169246832754688 current state:\n",
      "JobState.JOB_STATE_RUNNING\n",
      "CustomJob projects/895222332033/locations/us-central1/customJobs/1355169246832754688 current state:\n",
      "JobState.JOB_STATE_RUNNING\n",
      "CustomJob projects/895222332033/locations/us-central1/customJobs/1355169246832754688 current state:\n",
      "JobState.JOB_STATE_RUNNING\n",
      "CustomJob projects/895222332033/locations/us-central1/customJobs/1355169246832754688 current state:\n",
      "JobState.JOB_STATE_RUNNING\n",
      "CustomJob projects/895222332033/locations/us-central1/customJobs/1355169246832754688 current state:\n",
      "JobState.JOB_STATE_RUNNING\n",
      "CustomJob projects/895222332033/locations/us-central1/customJobs/1355169246832754688 current state:\n",
      "JobState.JOB_STATE_RUNNING\n",
      "CustomJob projects/895222332033/locations/us-central1/customJobs/1355169246832754688 current state:\n",
      "JobState.JOB_STATE_RUNNING\n",
      "CustomJob projects/895222332033/locations/us-central1/customJobs/1355169246832754688 current state:\n",
      "JobState.JOB_STATE_RUNNING\n",
      "CustomJob projects/895222332033/locations/us-central1/customJobs/1355169246832754688 current state:\n",
      "JobState.JOB_STATE_RUNNING\n",
      "CustomJob projects/895222332033/locations/us-central1/customJobs/1355169246832754688 current state:\n",
      "JobState.JOB_STATE_RUNNING\n",
      "CustomJob projects/895222332033/locations/us-central1/customJobs/1355169246832754688 current state:\n",
      "JobState.JOB_STATE_RUNNING\n",
      "CustomJob projects/895222332033/locations/us-central1/customJobs/1355169246832754688 current state:\n",
      "JobState.JOB_STATE_RUNNING\n",
      "CustomJob projects/895222332033/locations/us-central1/customJobs/1355169246832754688 current state:\n",
      "JobState.JOB_STATE_RUNNING\n",
      "CustomJob projects/895222332033/locations/us-central1/customJobs/1355169246832754688 current state:\n",
      "JobState.JOB_STATE_RUNNING\n",
      "CustomJob projects/895222332033/locations/us-central1/customJobs/1355169246832754688 current state:\n",
      "JobState.JOB_STATE_RUNNING\n",
      "CustomJob projects/895222332033/locations/us-central1/customJobs/1355169246832754688 current state:\n",
      "JobState.JOB_STATE_RUNNING\n",
      "CustomJob projects/895222332033/locations/us-central1/customJobs/1355169246832754688 current state:\n",
      "JobState.JOB_STATE_RUNNING\n",
      "CustomJob projects/895222332033/locations/us-central1/customJobs/1355169246832754688 current state:\n",
      "JobState.JOB_STATE_RUNNING\n",
      "CustomJob projects/895222332033/locations/us-central1/customJobs/1355169246832754688 current state:\n",
      "JobState.JOB_STATE_RUNNING\n",
      "CustomJob projects/895222332033/locations/us-central1/customJobs/1355169246832754688 current state:\n",
      "JobState.JOB_STATE_RUNNING\n",
      "CustomJob projects/895222332033/locations/us-central1/customJobs/1355169246832754688 current state:\n",
      "JobState.JOB_STATE_RUNNING\n",
      "CustomJob projects/895222332033/locations/us-central1/customJobs/1355169246832754688 current state:\n",
      "JobState.JOB_STATE_RUNNING\n",
      "CustomJob projects/895222332033/locations/us-central1/customJobs/1355169246832754688 current state:\n",
      "JobState.JOB_STATE_RUNNING\n",
      "CustomJob projects/895222332033/locations/us-central1/customJobs/1355169246832754688 current state:\n",
      "JobState.JOB_STATE_RUNNING\n",
      "CustomJob projects/895222332033/locations/us-central1/customJobs/1355169246832754688 current state:\n",
      "JobState.JOB_STATE_RUNNING\n",
      "CustomJob projects/895222332033/locations/us-central1/customJobs/1355169246832754688 current state:\n",
      "JobState.JOB_STATE_RUNNING\n",
      "CustomJob projects/895222332033/locations/us-central1/customJobs/1355169246832754688 current state:\n",
      "JobState.JOB_STATE_RUNNING\n",
      "CustomJob projects/895222332033/locations/us-central1/customJobs/1355169246832754688 current state:\n",
      "JobState.JOB_STATE_RUNNING\n",
      "CustomJob projects/895222332033/locations/us-central1/customJobs/1355169246832754688 current state:\n",
      "JobState.JOB_STATE_RUNNING\n",
      "CustomJob projects/895222332033/locations/us-central1/customJobs/1355169246832754688 current state:\n",
      "JobState.JOB_STATE_RUNNING\n",
      "CustomJob projects/895222332033/locations/us-central1/customJobs/1355169246832754688 current state:\n",
      "JobState.JOB_STATE_RUNNING\n",
      "CustomJob projects/895222332033/locations/us-central1/customJobs/1355169246832754688 current state:\n",
      "JobState.JOB_STATE_RUNNING\n",
      "CustomJob projects/895222332033/locations/us-central1/customJobs/1355169246832754688 current state:\n",
      "JobState.JOB_STATE_RUNNING\n",
      "CustomJob projects/895222332033/locations/us-central1/customJobs/1355169246832754688 current state:\n",
      "JobState.JOB_STATE_RUNNING\n",
      "CustomJob projects/895222332033/locations/us-central1/customJobs/1355169246832754688 current state:\n",
      "JobState.JOB_STATE_RUNNING\n",
      "CustomJob projects/895222332033/locations/us-central1/customJobs/1355169246832754688 current state:\n",
      "JobState.JOB_STATE_RUNNING\n",
      "CustomJob projects/895222332033/locations/us-central1/customJobs/1355169246832754688 current state:\n",
      "JobState.JOB_STATE_RUNNING\n",
      "CustomJob projects/895222332033/locations/us-central1/customJobs/1355169246832754688 current state:\n",
      "JobState.JOB_STATE_RUNNING\n",
      "CustomJob projects/895222332033/locations/us-central1/customJobs/1355169246832754688 current state:\n",
      "JobState.JOB_STATE_RUNNING\n",
      "CustomJob projects/895222332033/locations/us-central1/customJobs/1355169246832754688 current state:\n",
      "JobState.JOB_STATE_RUNNING\n",
      "CustomJob projects/895222332033/locations/us-central1/customJobs/1355169246832754688 current state:\n",
      "JobState.JOB_STATE_RUNNING\n",
      "CustomJob projects/895222332033/locations/us-central1/customJobs/1355169246832754688 current state:\n",
      "JobState.JOB_STATE_RUNNING\n",
      "CustomJob projects/895222332033/locations/us-central1/customJobs/1355169246832754688 current state:\n",
      "JobState.JOB_STATE_RUNNING\n",
      "CustomJob projects/895222332033/locations/us-central1/customJobs/1355169246832754688 current state:\n",
      "JobState.JOB_STATE_RUNNING\n",
      "CustomJob projects/895222332033/locations/us-central1/customJobs/1355169246832754688 current state:\n",
      "JobState.JOB_STATE_RUNNING\n",
      "CustomJob projects/895222332033/locations/us-central1/customJobs/1355169246832754688 current state:\n",
      "JobState.JOB_STATE_RUNNING\n",
      "CustomJob projects/895222332033/locations/us-central1/customJobs/1355169246832754688 current state:\n",
      "JobState.JOB_STATE_RUNNING\n",
      "CustomJob projects/895222332033/locations/us-central1/customJobs/1355169246832754688 current state:\n",
      "JobState.JOB_STATE_RUNNING\n",
      "CustomJob projects/895222332033/locations/us-central1/customJobs/1355169246832754688 current state:\n",
      "JobState.JOB_STATE_RUNNING\n",
      "CustomJob projects/895222332033/locations/us-central1/customJobs/1355169246832754688 current state:\n",
      "JobState.JOB_STATE_RUNNING\n",
      "CustomJob projects/895222332033/locations/us-central1/customJobs/1355169246832754688 current state:\n",
      "JobState.JOB_STATE_RUNNING\n",
      "CustomJob projects/895222332033/locations/us-central1/customJobs/1355169246832754688 current state:\n",
      "JobState.JOB_STATE_RUNNING\n",
      "CustomJob projects/895222332033/locations/us-central1/customJobs/1355169246832754688 current state:\n",
      "JobState.JOB_STATE_RUNNING\n",
      "CustomJob projects/895222332033/locations/us-central1/customJobs/1355169246832754688 current state:\n",
      "JobState.JOB_STATE_RUNNING\n",
      "CustomJob projects/895222332033/locations/us-central1/customJobs/1355169246832754688 current state:\n",
      "JobState.JOB_STATE_RUNNING\n",
      "CustomJob projects/895222332033/locations/us-central1/customJobs/1355169246832754688 current state:\n",
      "JobState.JOB_STATE_RUNNING\n",
      "CustomJob projects/895222332033/locations/us-central1/customJobs/1355169246832754688 current state:\n",
      "JobState.JOB_STATE_RUNNING\n",
      "CustomJob projects/895222332033/locations/us-central1/customJobs/1355169246832754688 current state:\n",
      "JobState.JOB_STATE_RUNNING\n",
      "CustomJob projects/895222332033/locations/us-central1/customJobs/1355169246832754688 current state:\n",
      "JobState.JOB_STATE_RUNNING\n",
      "CustomJob projects/895222332033/locations/us-central1/customJobs/1355169246832754688 current state:\n",
      "JobState.JOB_STATE_RUNNING\n",
      "CustomJob projects/895222332033/locations/us-central1/customJobs/1355169246832754688 current state:\n",
      "JobState.JOB_STATE_RUNNING\n",
      "CustomJob projects/895222332033/locations/us-central1/customJobs/1355169246832754688 current state:\n",
      "JobState.JOB_STATE_SUCCEEDED\n",
      "CustomJob run completed. Resource name: projects/895222332033/locations/us-central1/customJobs/1355169246832754688\n"
     ]
    }
   ],
   "source": [
    "utils.submit_and_track_t5x_vertex_job(\n",
    "    custom_job=job,\n",
    "    job_display_name=RUN_ID,\n",
    "    run_name=RUN_ID,\n",
    "    experiment_name=EXPERIMENT_NAME,\n",
    "    execution_name=RUN_ID,\n",
    "    tfds_data_dir=TFDS_DATA_DIR,\n",
    "    model_dir=RUN_DIR,\n",
    "    vertex_ai=vertex_ai,\n",
    "    run_mode=RUN_MODE\n",
    ")"
   ]
  },
  {
   "cell_type": "markdown",
   "metadata": {},
   "source": [
    "### Monitor the job with Vertex AI TensorBoard\n",
    "\n",
    "**Execute the following command from the terminal window to sync logs to Vertex \n",
    "AI TensorBoard**"
   ]
  },
  {
   "cell_type": "code",
   "execution_count": null,
   "metadata": {},
   "outputs": [],
   "source": [
    "cmd = f\"\"\"\n",
    "tb-gcp-uploader --tensorboard_resource_name {TENSORBOARD_ID} \\\n",
    "--logdir {EXPERIMENT_RUNS} \\\n",
    "--experiment_name {EXPERIMENT_NAME}\n",
    "\"\"\"\n",
    "\n",
    "print(cmd)"
   ]
  },
  {
   "cell_type": "markdown",
   "metadata": {},
   "source": [
    "To access the TensorBoard instance for the experiment, click the below URL"
   ]
  },
  {
   "cell_type": "code",
   "execution_count": null,
   "metadata": {},
   "outputs": [],
   "source": [
    "TENSORBOARD_URL = f\"https://{REGION}.tensorboard.googleusercontent.com/experiment/{TENSORBOARD_ID.replace('/', '+')}+experiments+{EXPERIMENT_NAME}/\"\n",
    "print(f\"TensorBoard URL for the experiment is located at {TENSORBOARD_URL}\")"
   ]
  }
 ],
 "metadata": {
  "environment": {
   "kernel": "python3",
   "name": "common-cpu.m93",
   "type": "gcloud",
   "uri": "gcr.io/deeplearning-platform-release/base-cpu:m93"
  },
  "kernelspec": {
   "display_name": "Python 3",
   "language": "python",
   "name": "python3"
  },
  "language_info": {
   "codemirror_mode": {
    "name": "ipython",
    "version": 3
   },
   "file_extension": ".py",
   "mimetype": "text/x-python",
   "name": "python",
   "nbconvert_exporter": "python",
   "pygments_lexer": "ipython3",
   "version": "3.7.12"
  },
  "vscode": {
   "interpreter": {
    "hash": "802ea0518c7535cb908ec450b955e980eb8525a80af866d337675ca6fae56b98"
   }
  }
 },
 "nbformat": 4,
 "nbformat_minor": 4
}
