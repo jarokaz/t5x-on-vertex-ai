{
 "cells": [
  {
   "cell_type": "code",
   "execution_count": null,
   "metadata": {},
   "outputs": [],
   "source": [
    "# Copyright 2022 Google LLC\n",
    "#\n",
    "# Licensed under the Apache License, Version 2.0 (the \"License\");\n",
    "# you may not use this file except in compliance with the License.\n",
    "# You may obtain a copy of the License at\n",
    "#\n",
    "#      http://www.apache.org/licenses/LICENSE-2.0\n",
    "#\n",
    "# Unless required by applicable law or agreed to in writing, software\n",
    "# distributed under the License is distributed on an \"AS IS\" BASIS,\n",
    "# WITHOUT WARRANTIES OR CONDITIONS OF ANY KIND, either express or implied.\n",
    "# See the License for the specific language governing permissions and\n",
    "# limitations under the License."
   ]
  },
  {
   "cell_type": "markdown",
   "metadata": {},
   "source": [
    "# Running batch inference using `tfrecord` files\n",
    "\n",
    "This notebook demonstrates how to run batch inference on data in `tfrecord` format.\n",
    "\n"
   ]
  },
  {
   "cell_type": "code",
   "execution_count": 1,
   "metadata": {},
   "outputs": [],
   "source": [
    "# Reloads modules automatically before executing any code/script\n",
    "%load_ext autoreload\n",
    "%autoreload 2"
   ]
  },
  {
   "cell_type": "markdown",
   "metadata": {},
   "source": [
    "### Import libraries\n",
    "\n",
    "Import the required libraries."
   ]
  },
  {
   "cell_type": "code",
   "execution_count": 2,
   "metadata": {},
   "outputs": [],
   "source": [
    "import os\n",
    "import time\n",
    "from datetime import datetime\n",
    "import pandas as pd\n",
    "\n",
    "# Import the Vertex AI SDK for Python\n",
    "from google.cloud import aiplatform as vertex_ai"
   ]
  },
  {
   "cell_type": "markdown",
   "metadata": {},
   "source": [
    "Import [`utils.py`](utils.py), which is a\n",
    "custom script that has utility functions to streamline configuration and\n",
    "submission of a Vertex AI custom job and to track the generated artifacts and\n",
    "metrics from the custom job."
   ]
  },
  {
   "cell_type": "code",
   "execution_count": 3,
   "metadata": {},
   "outputs": [
    {
     "name": "stderr",
     "output_type": "stream",
     "text": [
      "2022-09-07 18:45:22.625602: W tensorflow/stream_executor/platform/default/dso_loader.cc:64] Could not load dynamic library 'libcudart.so.11.0'; dlerror: libcudart.so.11.0: cannot open shared object file: No such file or directory\n",
      "2022-09-07 18:45:22.625651: I tensorflow/stream_executor/cuda/cudart_stub.cc:29] Ignore above cudart dlerror if you do not have a GPU set up on your machine.\n",
      "/opt/conda/lib/python3.7/site-packages/jax/__init__.py:27: UserWarning: cloud_tpu_init failed: KeyError('<!DOCTYPE html>\\n<html lang=en>\\n  <meta charset=utf-8>\\n  <meta name=viewport content=\"initial-scale=1, minimum-scale=1, width=device-width\">\\n  <title>Error 404 (Not Found)!!1</title>\\n  <style>\\n    *{margin:0;padding:0}html,code{font:15px/22px arial,sans-serif}html{background:#fff;color:#222;padding:15px}body{margin:7% auto 0;max-width:390px;min-height:180px;padding:30px 0 15px}* > body{background:url(//www.google.com/images/errors/robot.png) 100% 5px no-repeat;padding-right:205px}p{margin:11px 0 22px;overflow:hidden}ins{color:#777;text-decoration:none}a img{border:0}@media screen and (max-width:772px){body{background:none;margin-top:0;max-width:none;padding-right:0}}#logo{background:url(//www.google.com/images/branding/googlelogo/1x/googlelogo_color_150x54dp.png) no-repeat;margin-left:-5px}@media only screen and (min-resolution:192dpi){#logo{background:url(//www.google.com/images/branding/googlelogo/2x/googlelogo_color_150x54dp.png) no-repeat 0% 0%/100% 100%;-moz-border-image:url(//www.google.com/images/branding/googlelogo/2x/googlelogo_color_150x54dp.png) 0}}@media only screen and (-webkit-min-device-pixel-ratio:2){#logo{background:url(//www.google.com/images/branding/googlelogo/2x/googlelogo_color_150x54dp.png) no-repeat;-webkit-background-size:100% 100%}}#logo{display:inline-block;height:54px;width:150px}\\n  </style>\\n  <a href=//www.google.com/><span id=logo aria-label=Google></span></a>\\n  <p><b>404.</b> <ins>That’s an error.</ins>\\n  <p>The requested URL <code>/computeMetadata/v1/instance/attributes/accelerator-type</code> was not found on this server.  <ins>That’s all we know.</ins>\\n')\n",
      " This a JAX bug; please report an issue at https://github.com/google/jax/issues\n",
      "  _warn(f\"cloud_tpu_init failed: {repr(exc)}\\n This a JAX bug; please report \"\n",
      "/opt/conda/lib/python3.7/site-packages/tqdm/auto.py:22: TqdmWarning: IProgress not found. Please update jupyter and ipywidgets. See https://ipywidgets.readthedocs.io/en/stable/user_install.html\n",
      "  from .autonotebook import tqdm as notebook_tqdm\n"
     ]
    }
   ],
   "source": [
    "import utils"
   ]
  },
  {
   "cell_type": "markdown",
   "metadata": {},
   "source": [
    "### Configure environment settings\n",
    "\n",
    "Based on the [environment setup](README.md) you did previously, configure the\n",
    "following environment settings:\n",
    "\n",
    "-  `PROJECT_ID`: Configure the Google Cloud project ID.\n",
    "-  `REGION`: Configure the\n",
    "    [region](https://cloud.google.com/vertex-ai/docs/general/locations) to use\n",
    "    for Vertex AI operations throughout this notebook.\n",
    "-  `BUCKET`: Configure the Google Cloud Storage bucket name that you created\n",
    "    during environment setup. Vertex AI uses this bucket for operations such as\n",
    "    staging the code and saving generated artifacts.\n",
    "-  `TENSORBOARD_NAME`: Configure the managed TensorBoard instance name that\n",
    "    you created during the environment setup."
   ]
  },
  {
   "cell_type": "code",
   "execution_count": 4,
   "metadata": {},
   "outputs": [],
   "source": [
    "# Project definitions\n",
    "PROJECT_ID = '<YOUR PROJECT ID>' # Change to your project id.\n",
    "REGION = '<YOUR REGION>'  # Change to your region.\n",
    "\n",
    "# Bucket definitions\n",
    "BUCKET = '<YOUR BUCKET NAME>' # Change to your bucket."
   ]
  },
  {
   "cell_type": "code",
   "execution_count": 5,
   "metadata": {},
   "outputs": [],
   "source": [
    "# Project definitions\n",
    "PROJECT_ID = 'jk-mlops-dev' # Change to your project id.\n",
    "REGION = 'us-central1'  # Change to your region.\n",
    "\n",
    "# Bucket definitions\n",
    "BUCKET = 'jk-t5x-staging' # Change to your bucket."
   ]
  },
  {
   "cell_type": "code",
   "execution_count": 6,
   "metadata": {},
   "outputs": [],
   "source": [
    "# Tensorboard definitions\n",
    "TENSORBOARD_NAME = 't5x-experiments' # Change to your Tensorboard instance name"
   ]
  },
  {
   "cell_type": "code",
   "execution_count": 7,
   "metadata": {},
   "outputs": [
    {
     "name": "stdout",
     "output_type": "stream",
     "text": [
      "TENSORBOARD_ID = projects/895222332033/locations/us-central1/tensorboards/2937103421045473280\n"
     ]
    }
   ],
   "source": [
    "# Get Vertex AI TensorBoard ID based on name\n",
    "TENSORBOARD_ID = ! gcloud ai tensorboards list --filter=\"displayName={TENSORBOARD_NAME}\" --format=\"value(name)\" --region={REGION} 2>/dev/null \n",
    "TENSORBOARD_ID = TENSORBOARD_ID[0]\n",
    "\n",
    "print(f\"TENSORBOARD_ID = {TENSORBOARD_ID}\")"
   ]
  },
  {
   "cell_type": "code",
   "execution_count": 8,
   "metadata": {},
   "outputs": [],
   "source": [
    "# Configure the custom container image name\n",
    "IMAGE_NAME = 't5x-base' # Change to your image name\n",
    "IMAGE_URI = f'gcr.io/{PROJECT_ID}/{IMAGE_NAME}'"
   ]
  },
  {
   "cell_type": "markdown",
   "metadata": {},
   "source": [
    "Verify that the image exists in Container Registry:"
   ]
  },
  {
   "cell_type": "code",
   "execution_count": 9,
   "metadata": {},
   "outputs": [
    {
     "name": "stdout",
     "output_type": "stream",
     "text": [
      "\u001b[1;33mWARNING:\u001b[0m Successfully resolved tag to sha256, but it is recommended to use sha256 directly.\n",
      "image_summary:\n",
      "  digest: sha256:e4d0c053d27a8d5398457a292eb14b43cb6c43ec79fc2e31d8bace48e0853082\n",
      "  fully_qualified_digest: gcr.io/jk-mlops-dev/t5x-base@sha256:e4d0c053d27a8d5398457a292eb14b43cb6c43ec79fc2e31d8bace48e0853082\n",
      "  registry: gcr.io\n",
      "  repository: jk-mlops-dev/t5x-base\n"
     ]
    }
   ],
   "source": [
    "! gcloud container images describe $IMAGE_URI"
   ]
  },
  {
   "cell_type": "markdown",
   "metadata": {},
   "source": [
    "### Configure experiment settings\n"
   ]
  },
  {
   "cell_type": "code",
   "execution_count": 10,
   "metadata": {},
   "outputs": [],
   "source": [
    "EXPERIMENT_NAME = 'tr-en-1' # Change to your experiment name\n",
    "\n",
    "EXPERIMENT_WORKSPACE = f'gs://{BUCKET}/experiments/{EXPERIMENT_NAME}'\n",
    "EXPERIMENT_RUNS = f'{EXPERIMENT_WORKSPACE}/runs'"
   ]
  },
  {
   "cell_type": "markdown",
   "metadata": {},
   "source": [
    "### Initialize the Vertex AI SDK for Python\n",
    "\n",
    "Initialize the Vertex AI SDK for Python for your project, bucket, and\n",
    "experiment."
   ]
  },
  {
   "cell_type": "code",
   "execution_count": 11,
   "metadata": {},
   "outputs": [],
   "source": [
    "vertex_ai.init(\n",
    "    project=PROJECT_ID,\n",
    "    location=REGION,\n",
    "    staging_bucket=EXPERIMENT_WORKSPACE,\n",
    "    experiment=EXPERIMENT_NAME\n",
    ")"
   ]
  },
  {
   "cell_type": "markdown",
   "metadata": {},
   "source": [
    "---"
   ]
  },
  {
   "cell_type": "markdown",
   "metadata": {
    "tags": [],
    "toc-hr-collapsed": true
   },
   "source": [
    "## Configure and run a batch inference job\n",
    "\n"
   ]
  },
  {
   "cell_type": "markdown",
   "metadata": {},
   "source": [
    "### Configure a Gin file for the batch inference job\n"
   ]
  },
  {
   "cell_type": "code",
   "execution_count": 12,
   "metadata": {},
   "outputs": [
    {
     "name": "stdout",
     "output_type": "stream",
     "text": [
      "\n",
      "from __gin__ import dynamic_registration\n",
      "\n",
      "\n",
      "#from t5x import utils\n",
      "#from t5x import infer\n",
      "\n",
      "include \"t5x/configs/runs/infer_from_tfexample_file.gin\"\n",
      "include \"t5x/examples/t5/t5_1_1/base.gin\"\n",
      "\n",
      "\n",
      "TASK_FEATURE_LENGTHS = {\"inputs\": 256, \"targets\": 256}\n",
      "TF_EXAMPLE_FILE_TYPE = 'tfrecord'\n",
      "\n",
      "infer.create_task_from_tfexample_file.inputs_key = 'tr'\n",
      "\n",
      "\n",
      "\n",
      "\n"
     ]
    }
   ],
   "source": [
    "GIN_FILE = '../configs/infer_t511_base_tr_en.gin'\n",
    "! cat {GIN_FILE}"
   ]
  },
  {
   "cell_type": "markdown",
   "metadata": {},
   "source": [
    "### Configure the Vertex AI custom job"
   ]
  },
  {
   "cell_type": "code",
   "execution_count": 13,
   "metadata": {},
   "outputs": [],
   "source": [
    "INFER_RUN_NAME = f'<YOUR RUN NAME>' # Change to your run name for the custom job\n",
    "INFER_RUN_ID = f'{EXPERIMENT_NAME}-{INFER_RUN_NAME}-{datetime.now().strftime(\"%Y%m%d%H%M\")}'\n",
    "INFER_RUN_DIR = f'{EXPERIMENT_RUNS}/{INFER_RUN_ID}'"
   ]
  },
  {
   "cell_type": "code",
   "execution_count": 40,
   "metadata": {},
   "outputs": [],
   "source": [
    "INFER_RUN_NAME = f'infer-1' # Change to your run name for the custom job\n",
    "INFER_RUN_ID = f'{EXPERIMENT_NAME}-{INFER_RUN_NAME}-{datetime.now().strftime(\"%Y%m%d%H%M\")}'\n",
    "INFER_RUN_DIR = f'{EXPERIMENT_RUNS}/{INFER_RUN_ID}'"
   ]
  },
  {
   "cell_type": "markdown",
   "metadata": {},
   "source": [
    "Specify the run mode as `infer` to run the T5X launch script in inference\n",
    "mode."
   ]
  },
  {
   "cell_type": "code",
   "execution_count": 41,
   "metadata": {},
   "outputs": [],
   "source": [
    "RUN_MODE = 'infer'"
   ]
  },
  {
   "cell_type": "markdown",
   "metadata": {},
   "source": [
    "#### Select the checkpoint"
   ]
  },
  {
   "cell_type": "code",
   "execution_count": 42,
   "metadata": {},
   "outputs": [
    {
     "data": {
      "text/html": [
       "<div>\n",
       "<style scoped>\n",
       "    .dataframe tbody tr th:only-of-type {\n",
       "        vertical-align: middle;\n",
       "    }\n",
       "\n",
       "    .dataframe tbody tr th {\n",
       "        vertical-align: top;\n",
       "    }\n",
       "\n",
       "    .dataframe thead th {\n",
       "        text-align: right;\n",
       "    }\n",
       "</style>\n",
       "<table border=\"1\" class=\"dataframe\">\n",
       "  <thead>\n",
       "    <tr style=\"text-align: right;\">\n",
       "      <th></th>\n",
       "      <th>RUN_ID</th>\n",
       "      <th>RUN_DIR</th>\n",
       "    </tr>\n",
       "  </thead>\n",
       "  <tbody>\n",
       "    <tr>\n",
       "      <th>0</th>\n",
       "      <td>tr-en-1-infer-1-202209071845</td>\n",
       "      <td>None</td>\n",
       "    </tr>\n",
       "    <tr>\n",
       "      <th>1</th>\n",
       "      <td>tr-en-1-infer-1-202209071808</td>\n",
       "      <td>None</td>\n",
       "    </tr>\n",
       "    <tr>\n",
       "      <th>2</th>\n",
       "      <td>tr-en-1-run-1-202209071535</td>\n",
       "      <td>gs://jk-t5x-staging/experiments/tr-en-1/runs/tr-en-1-run-1-202209071535</td>\n",
       "    </tr>\n",
       "  </tbody>\n",
       "</table>\n",
       "</div>"
      ],
      "text/plain": [
       "                         RUN_ID  \\\n",
       "0  tr-en-1-infer-1-202209071845   \n",
       "1  tr-en-1-infer-1-202209071808   \n",
       "2    tr-en-1-run-1-202209071535   \n",
       "\n",
       "                                                                   RUN_DIR  \n",
       "0                                                                     None  \n",
       "1                                                                     None  \n",
       "2  gs://jk-t5x-staging/experiments/tr-en-1/runs/tr-en-1-run-1-202209071535  "
      ]
     },
     "execution_count": 42,
     "metadata": {},
     "output_type": "execute_result"
    }
   ],
   "source": [
    "# Get all experiment runs and run directories\n",
    "utils.get_all_experiment_run_directories(EXPERIMENT_NAME)"
   ]
  },
  {
   "cell_type": "code",
   "execution_count": 43,
   "metadata": {},
   "outputs": [
    {
     "name": "stdout",
     "output_type": "stream",
     "text": [
      "CommandException: \"ls\" command does not support \"file://\" URLs. Did you mean to use a gs:// URL?\n"
     ]
    }
   ],
   "source": [
    "! gsutil ls '<YOUR PREVIOUS RUN DIRECTORY>' # Change to the previous run directory"
   ]
  },
  {
   "cell_type": "code",
   "execution_count": 44,
   "metadata": {},
   "outputs": [
    {
     "name": "stdout",
     "output_type": "stream",
     "text": [
      "gs://jk-t5x-staging/experiments/tr-en-1/runs/tr-en-1-run-1-202209071535/config.gin\n",
      "gs://jk-t5x-staging/experiments/tr-en-1/runs/tr-en-1-run-1-202209071535/finetune_t511_base_tr_en.gin\n",
      "gs://jk-t5x-staging/experiments/tr-en-1/runs/tr-en-1-run-1-202209071535/model-info.txt\n",
      "gs://jk-t5x-staging/experiments/tr-en-1/runs/tr-en-1-run-1-202209071535/checkpoint_1000000.tmp-1662565322/\n",
      "gs://jk-t5x-staging/experiments/tr-en-1/runs/tr-en-1-run-1-202209071535/checkpoint_1000000/\n",
      "gs://jk-t5x-staging/experiments/tr-en-1/runs/tr-en-1-run-1-202209071535/checkpoint_1001000.tmp-1662565912/\n",
      "gs://jk-t5x-staging/experiments/tr-en-1/runs/tr-en-1-run-1-202209071535/checkpoint_1001000/\n",
      "gs://jk-t5x-staging/experiments/tr-en-1/runs/tr-en-1-run-1-202209071535/inference_eval/\n",
      "gs://jk-t5x-staging/experiments/tr-en-1/runs/tr-en-1-run-1-202209071535/train/\n",
      "gs://jk-t5x-staging/experiments/tr-en-1/runs/tr-en-1-run-1-202209071535/training_eval/\n"
     ]
    }
   ],
   "source": [
    "! gsutil ls 'gs://jk-t5x-staging/experiments/tr-en-1/runs/tr-en-1-run-1-202209071535' # Change to the previous run directory"
   ]
  },
  {
   "cell_type": "code",
   "execution_count": 45,
   "metadata": {},
   "outputs": [],
   "source": [
    "CHECKPOINT_PATH = '<YOUR MODEL CHECKPOINT PATH>' # Change to the path where model checkpoint exists"
   ]
  },
  {
   "cell_type": "code",
   "execution_count": 46,
   "metadata": {},
   "outputs": [],
   "source": [
    "CHECKPOINT_PATH = 'gs://jk-t5x-staging/experiments/tr-en-1/runs/tr-en-1-run-1-202209071535/checkpoint_1001000' # Change to the path where model checkpoint exists"
   ]
  },
  {
   "cell_type": "markdown",
   "metadata": {},
   "source": [
    "Configure runtime parameters for the inference."
   ]
  },
  {
   "cell_type": "code",
   "execution_count": 47,
   "metadata": {},
   "outputs": [],
   "source": [
    "GIN_FILES = [GIN_FILE]\n",
    "GIN_OVERWRITES = [\n",
    "    'USE_CACHED_TASKS=False',\n",
    "    f'CHECKPOINT_PATH=\"{CHECKPOINT_PATH}\"',\n",
    "    f'INFER_OUTPUT_DIR=\"{INFER_RUN_DIR}\"',\n",
    "    f\"TF_EXAMPLE_FILE_PATHS=['gs://jk-t5x-staging/datasets/turkish-english/eval.tfrecords']\"\n",
    "]"
   ]
  },
  {
   "cell_type": "markdown",
   "metadata": {},
   "source": [
    "To help with troubleshooting, display the values of local variables."
   ]
  },
  {
   "cell_type": "code",
   "execution_count": 48,
   "metadata": {},
   "outputs": [
    {
     "name": "stdout",
     "output_type": "stream",
     "text": [
      "PROJECT_ID=jk-mlops-dev\n",
      "REGION=us-central1\n",
      "BUCKET=jk-t5x-staging\n",
      "TENSORBOARD_NAME=t5x-experiments\n",
      "TENSORBOARD_ID=projects/895222332033/locations/us-central1/tensorboards/2937103421045473280\n",
      "IMAGE_NAME=t5x-base\n",
      "IMAGE_URI=gcr.io/jk-mlops-dev/t5x-base\n",
      "EXPERIMENT_NAME=tr-en-1\n",
      "EXPERIMENT_WORKSPACE=gs://jk-t5x-staging/experiments/tr-en-1\n",
      "EXPERIMENT_RUNS=gs://jk-t5x-staging/experiments/tr-en-1/runs\n",
      "GIN_FILES=['../configs/infer_t511_base_tr_en.gin']\n",
      "GIN_OVERWRITES=['USE_CACHED_TASKS=False', 'CHECKPOINT_PATH=\"gs://jk-t5x-staging/experiments/tr-en-1/runs/tr-en-1-run-1-202209071535/checkpoint_1001000\"', 'INFER_OUTPUT_DIR=\"gs://jk-t5x-staging/experiments/tr-en-1/runs/tr-en-1-infer-1-202209071909\"', \"TF_EXAMPLE_FILE_PATHS=['gs://jk-t5x-staging/datasets/turkish-english/eval.tfrecords']\"]\n",
      "INFER_RUN_NAME=infer-1\n",
      "INFER_RUN_ID=tr-en-1-infer-1-202209071909\n",
      "INFER_RUN_DIR=gs://jk-t5x-staging/experiments/tr-en-1/runs/tr-en-1-infer-1-202209071909\n",
      "RUN_MODE=infer\n",
      "CHECKPOINT_PATH=gs://jk-t5x-staging/experiments/tr-en-1/runs/tr-en-1-run-1-202209071535/checkpoint_1001000\n"
     ]
    }
   ],
   "source": [
    "for key in [\n",
    "    \"PROJECT_ID\", \"REGION\", \"BUCKET\", \"TENSORBOARD_NAME\", \"TENSORBOARD_ID\", \n",
    "    \"IMAGE_NAME\", \"IMAGE_URI\", \n",
    "    \"EXPERIMENT_NAME\", \"EXPERIMENT_WORKSPACE\", \"EXPERIMENT_RUNS\", \n",
    "    \"GIN_FILES\", \"GIN_OVERWRITES\", \n",
    "    \"INFER_RUN_NAME\", \"INFER_RUN_ID\", \"INFER_RUN_DIR\", \"RUN_MODE\",\n",
    "    \"CHECKPOINT_PATH\"\n",
    "]:\n",
    "    print(f\"{key}={eval(key)}\")"
   ]
  },
  {
   "cell_type": "markdown",
   "metadata": {},
   "source": [
    "### Create the Vertex AI custom job"
   ]
  },
  {
   "cell_type": "markdown",
   "metadata": {},
   "source": [
    "Configure the worker pool specification based on TPU availability in the region.\n",
    "See\n",
    "[Vertex AI locations](https://cloud.google.com/vertex-ai/docs/general/locations#accelerators)\n",
    "for details."
   ]
  },
  {
   "cell_type": "code",
   "execution_count": 49,
   "metadata": {},
   "outputs": [],
   "source": [
    "# Define worker pool resource specification\n",
    "# Machine to run the custom job on. For TPUs, use `cloud-tpu`.\n",
    "MACHINE_TYPE = 'cloud-tpu'\n",
    "# Accelerator type to attach to the machine. For TPUs, use `TPU_V2`, `TPU_V3`.\n",
    "ACCELERATOR_TYPE = 'TPU_V2'\n",
    "# Number of accelerators to attach to the machine.\n",
    "# For TPUs, specify the number of cores to be provisioned.\n",
    "ACCELERATOR_COUNT = 8"
   ]
  },
  {
   "cell_type": "markdown",
   "metadata": {},
   "source": [
    "Create the custom job spec."
   ]
  },
  {
   "cell_type": "code",
   "execution_count": 50,
   "metadata": {},
   "outputs": [],
   "source": [
    "job = utils.create_t5x_custom_job(\n",
    "    display_name=INFER_RUN_ID,\n",
    "    machine_type=MACHINE_TYPE,\n",
    "    accelerator_type=ACCELERATOR_TYPE,\n",
    "    accelerator_count=ACCELERATOR_COUNT,\n",
    "    image_uri=IMAGE_URI,\n",
    "    run_mode=RUN_MODE,\n",
    "    gin_files=GIN_FILES,\n",
    "    model_dir=CHECKPOINT_PATH,\n",
    "    gin_overwrites=GIN_OVERWRITES\n",
    ")"
   ]
  },
  {
   "cell_type": "code",
   "execution_count": 51,
   "metadata": {},
   "outputs": [
    {
     "data": {
      "text/plain": [
       "worker_pool_specs {\n",
       "  machine_spec {\n",
       "    machine_type: \"cloud-tpu\"\n",
       "    accelerator_type: TPU_V2\n",
       "    accelerator_count: 8\n",
       "  }\n",
       "  replica_count: 1\n",
       "  container_spec {\n",
       "    image_uri: \"gcr.io/jk-mlops-dev/t5x-base\"\n",
       "    command: \"python\"\n",
       "    command: \"./t5x/t5x/infer.py\"\n",
       "    args: \"--gin.MODEL_DIR=\\\"gs://jk-t5x-staging/experiments/tr-en-1/runs/tr-en-1-run-1-202209071535/checkpoint_1001000\\\"\"\n",
       "    args: \"--tfds_data_dir=None\"\n",
       "    args: \"--gin_file=/gcs/jk-t5x-staging/experiments/tr-en-1/runs/tr-en-1-run-1-202209071535/checkpoint_1001000/infer_t511_base_tr_en.gin\"\n",
       "    args: \"--gin.USE_CACHED_TASKS=False\"\n",
       "    args: \"--gin.CHECKPOINT_PATH=\\\"gs://jk-t5x-staging/experiments/tr-en-1/runs/tr-en-1-run-1-202209071535/checkpoint_1001000\\\"\"\n",
       "    args: \"--gin.INFER_OUTPUT_DIR=\\\"gs://jk-t5x-staging/experiments/tr-en-1/runs/tr-en-1-infer-1-202209071909\\\"\"\n",
       "    args: \"--gin.TF_EXAMPLE_FILE_PATHS=[\\'gs://jk-t5x-staging/datasets/turkish-english/eval.tfrecords\\']\"\n",
       "  }\n",
       "}\n",
       "base_output_directory {\n",
       "  output_uri_prefix: \"gs://jk-t5x-staging/experiments/tr-en-1/aiplatform-custom-job-2022-09-07-19:10:05.855\"\n",
       "}"
      ]
     },
     "execution_count": 51,
     "metadata": {},
     "output_type": "execute_result"
    }
   ],
   "source": [
    "job.job_spec"
   ]
  },
  {
   "cell_type": "markdown",
   "metadata": {},
   "source": [
    "### Submit the custom job to Vertex AI and track the experiment\n",
    "\n",
    "The `submit_and_track_tx5_vertex_job` function launches the T5X script in\n",
    "inference mode with the fine-tuned model checkpoint specification. The function\n",
    "submits the job to Vertex AI, which generates inferences results and writes them\n",
    "to the Cloud Storage bucket. To monitor progress of the job, click the URL in\n",
    "the cell output. The URL goes to the Vertex AI Custom Job console for the job."
   ]
  },
  {
   "cell_type": "code",
   "execution_count": 52,
   "metadata": {},
   "outputs": [
    {
     "name": "stdout",
     "output_type": "stream",
     "text": [
      "Creating CustomJob\n",
      "CustomJob created. Resource name: projects/895222332033/locations/us-central1/customJobs/7809108987831386112\n",
      "To use this CustomJob in another session:\n",
      "custom_job = aiplatform.CustomJob.get('projects/895222332033/locations/us-central1/customJobs/7809108987831386112')\n",
      "View Custom Job:\n",
      "https://console.cloud.google.com/ai/platform/locations/us-central1/training/7809108987831386112?project=895222332033\n",
      "Job still pending. Waiting additional 15 seconds.\n",
      "CustomJob projects/895222332033/locations/us-central1/customJobs/7809108987831386112 current state:\n",
      "JobState.JOB_STATE_PENDING\n",
      "CustomJob projects/895222332033/locations/us-central1/customJobs/7809108987831386112 current state:\n",
      "JobState.JOB_STATE_PENDING\n",
      "CustomJob projects/895222332033/locations/us-central1/customJobs/7809108987831386112 current state:\n",
      "JobState.JOB_STATE_PENDING\n",
      "Job still pending. Waiting additional 15 seconds.\n",
      "CustomJob projects/895222332033/locations/us-central1/customJobs/7809108987831386112 current state:\n",
      "JobState.JOB_STATE_PENDING\n",
      "CustomJob projects/895222332033/locations/us-central1/customJobs/7809108987831386112 current state:\n",
      "JobState.JOB_STATE_PENDING\n",
      "CustomJob projects/895222332033/locations/us-central1/customJobs/7809108987831386112 current state:\n",
      "JobState.JOB_STATE_PENDING\n",
      "Job still pending. Waiting additional 15 seconds.\n",
      "CustomJob projects/895222332033/locations/us-central1/customJobs/7809108987831386112 current state:\n",
      "JobState.JOB_STATE_PENDING\n",
      "CustomJob projects/895222332033/locations/us-central1/customJobs/7809108987831386112 current state:\n",
      "JobState.JOB_STATE_PENDING\n",
      "CustomJob projects/895222332033/locations/us-central1/customJobs/7809108987831386112 current state:\n",
      "JobState.JOB_STATE_PENDING\n",
      "Job still pending. Waiting additional 15 seconds.\n",
      "CustomJob projects/895222332033/locations/us-central1/customJobs/7809108987831386112 current state:\n",
      "JobState.JOB_STATE_PENDING\n",
      "CustomJob projects/895222332033/locations/us-central1/customJobs/7809108987831386112 current state:\n",
      "JobState.JOB_STATE_PENDING\n",
      "CustomJob projects/895222332033/locations/us-central1/customJobs/7809108987831386112 current state:\n",
      "JobState.JOB_STATE_PENDING\n",
      "Job still pending. Waiting additional 15 seconds.\n",
      "CustomJob projects/895222332033/locations/us-central1/customJobs/7809108987831386112 current state:\n",
      "JobState.JOB_STATE_PENDING\n",
      "CustomJob projects/895222332033/locations/us-central1/customJobs/7809108987831386112 current state:\n",
      "JobState.JOB_STATE_PENDING\n",
      "CustomJob projects/895222332033/locations/us-central1/customJobs/7809108987831386112 current state:\n",
      "JobState.JOB_STATE_PENDING\n",
      "Job still pending. Waiting additional 15 seconds.\n",
      "CustomJob projects/895222332033/locations/us-central1/customJobs/7809108987831386112 current state:\n",
      "JobState.JOB_STATE_PENDING\n",
      "CustomJob projects/895222332033/locations/us-central1/customJobs/7809108987831386112 current state:\n",
      "JobState.JOB_STATE_PENDING\n",
      "Job still pending. Waiting additional 15 seconds.\n",
      "CustomJob projects/895222332033/locations/us-central1/customJobs/7809108987831386112 current state:\n",
      "JobState.JOB_STATE_PENDING\n",
      "CustomJob projects/895222332033/locations/us-central1/customJobs/7809108987831386112 current state:\n",
      "JobState.JOB_STATE_PENDING\n",
      "CustomJob projects/895222332033/locations/us-central1/customJobs/7809108987831386112 current state:\n",
      "JobState.JOB_STATE_PENDING\n",
      "Job still pending. Waiting additional 15 seconds.\n",
      "CustomJob projects/895222332033/locations/us-central1/customJobs/7809108987831386112 current state:\n",
      "JobState.JOB_STATE_PENDING\n",
      "CustomJob projects/895222332033/locations/us-central1/customJobs/7809108987831386112 current state:\n",
      "JobState.JOB_STATE_PENDING\n",
      "CustomJob projects/895222332033/locations/us-central1/customJobs/7809108987831386112 current state:\n",
      "JobState.JOB_STATE_PENDING\n",
      "Job still pending. Waiting additional 15 seconds.\n",
      "CustomJob projects/895222332033/locations/us-central1/customJobs/7809108987831386112 current state:\n",
      "JobState.JOB_STATE_PENDING\n",
      "CustomJob projects/895222332033/locations/us-central1/customJobs/7809108987831386112 current state:\n",
      "JobState.JOB_STATE_PENDING\n",
      "CustomJob projects/895222332033/locations/us-central1/customJobs/7809108987831386112 current state:\n",
      "JobState.JOB_STATE_PENDING\n",
      "Job still pending. Waiting additional 15 seconds.\n",
      "CustomJob projects/895222332033/locations/us-central1/customJobs/7809108987831386112 current state:\n",
      "JobState.JOB_STATE_PENDING\n",
      "CustomJob projects/895222332033/locations/us-central1/customJobs/7809108987831386112 current state:\n",
      "JobState.JOB_STATE_PENDING\n",
      "CustomJob projects/895222332033/locations/us-central1/customJobs/7809108987831386112 current state:\n",
      "JobState.JOB_STATE_PENDING\n",
      "Job still pending. Waiting additional 15 seconds.\n",
      "CustomJob projects/895222332033/locations/us-central1/customJobs/7809108987831386112 current state:\n",
      "JobState.JOB_STATE_PENDING\n",
      "CustomJob projects/895222332033/locations/us-central1/customJobs/7809108987831386112 current state:\n",
      "JobState.JOB_STATE_PENDING\n",
      "CustomJob projects/895222332033/locations/us-central1/customJobs/7809108987831386112 current state:\n",
      "JobState.JOB_STATE_PENDING\n",
      "Job still pending. Waiting additional 15 seconds.\n",
      "CustomJob projects/895222332033/locations/us-central1/customJobs/7809108987831386112 current state:\n",
      "JobState.JOB_STATE_PENDING\n",
      "CustomJob projects/895222332033/locations/us-central1/customJobs/7809108987831386112 current state:\n",
      "JobState.JOB_STATE_PENDING\n",
      "CustomJob projects/895222332033/locations/us-central1/customJobs/7809108987831386112 current state:\n",
      "JobState.JOB_STATE_PENDING\n",
      "Job still pending. Waiting additional 15 seconds.\n",
      "CustomJob projects/895222332033/locations/us-central1/customJobs/7809108987831386112 current state:\n",
      "JobState.JOB_STATE_PENDING\n",
      "CustomJob projects/895222332033/locations/us-central1/customJobs/7809108987831386112 current state:\n",
      "JobState.JOB_STATE_PENDING\n",
      "CustomJob projects/895222332033/locations/us-central1/customJobs/7809108987831386112 current state:\n",
      "JobState.JOB_STATE_PENDING\n",
      "Job still pending. Waiting additional 15 seconds.\n",
      "CustomJob projects/895222332033/locations/us-central1/customJobs/7809108987831386112 current state:\n",
      "JobState.JOB_STATE_PENDING\n",
      "CustomJob projects/895222332033/locations/us-central1/customJobs/7809108987831386112 current state:\n",
      "JobState.JOB_STATE_PENDING\n",
      "CustomJob projects/895222332033/locations/us-central1/customJobs/7809108987831386112 current state:\n",
      "JobState.JOB_STATE_PENDING\n",
      "Job still pending. Waiting additional 15 seconds.\n",
      "CustomJob projects/895222332033/locations/us-central1/customJobs/7809108987831386112 current state:\n",
      "JobState.JOB_STATE_PENDING\n",
      "CustomJob projects/895222332033/locations/us-central1/customJobs/7809108987831386112 current state:\n",
      "JobState.JOB_STATE_PENDING\n",
      "CustomJob projects/895222332033/locations/us-central1/customJobs/7809108987831386112 current state:\n",
      "JobState.JOB_STATE_PENDING\n",
      "Job still pending. Waiting additional 15 seconds.\n",
      "CustomJob projects/895222332033/locations/us-central1/customJobs/7809108987831386112 current state:\n",
      "JobState.JOB_STATE_PENDING\n",
      "CustomJob projects/895222332033/locations/us-central1/customJobs/7809108987831386112 current state:\n",
      "JobState.JOB_STATE_PENDING\n",
      "CustomJob projects/895222332033/locations/us-central1/customJobs/7809108987831386112 current state:\n",
      "JobState.JOB_STATE_PENDING\n",
      "Job still pending. Waiting additional 15 seconds.\n",
      "CustomJob projects/895222332033/locations/us-central1/customJobs/7809108987831386112 current state:\n",
      "JobState.JOB_STATE_PENDING\n",
      "CustomJob projects/895222332033/locations/us-central1/customJobs/7809108987831386112 current state:\n",
      "JobState.JOB_STATE_PENDING\n",
      "CustomJob projects/895222332033/locations/us-central1/customJobs/7809108987831386112 current state:\n",
      "JobState.JOB_STATE_PENDING\n",
      "Job still pending. Waiting additional 15 seconds.\n",
      "CustomJob projects/895222332033/locations/us-central1/customJobs/7809108987831386112 current state:\n",
      "JobState.JOB_STATE_PENDING\n",
      "CustomJob projects/895222332033/locations/us-central1/customJobs/7809108987831386112 current state:\n",
      "JobState.JOB_STATE_PENDING\n",
      "CustomJob projects/895222332033/locations/us-central1/customJobs/7809108987831386112 current state:\n",
      "JobState.JOB_STATE_PENDING\n",
      "Job still pending. Waiting additional 15 seconds.\n",
      "CustomJob projects/895222332033/locations/us-central1/customJobs/7809108987831386112 current state:\n",
      "JobState.JOB_STATE_PENDING\n",
      "CustomJob projects/895222332033/locations/us-central1/customJobs/7809108987831386112 current state:\n",
      "JobState.JOB_STATE_PENDING\n",
      "CustomJob projects/895222332033/locations/us-central1/customJobs/7809108987831386112 current state:\n",
      "JobState.JOB_STATE_PENDING\n",
      "Job still pending. Waiting additional 15 seconds.\n",
      "CustomJob projects/895222332033/locations/us-central1/customJobs/7809108987831386112 current state:\n",
      "JobState.JOB_STATE_PENDING\n",
      "CustomJob projects/895222332033/locations/us-central1/customJobs/7809108987831386112 current state:\n",
      "JobState.JOB_STATE_PENDING\n",
      "CustomJob projects/895222332033/locations/us-central1/customJobs/7809108987831386112 current state:\n",
      "JobState.JOB_STATE_PENDING\n",
      "Job still pending. Waiting additional 15 seconds.\n",
      "CustomJob projects/895222332033/locations/us-central1/customJobs/7809108987831386112 current state:\n",
      "JobState.JOB_STATE_PENDING\n",
      "CustomJob projects/895222332033/locations/us-central1/customJobs/7809108987831386112 current state:\n",
      "JobState.JOB_STATE_PENDING\n",
      "CustomJob projects/895222332033/locations/us-central1/customJobs/7809108987831386112 current state:\n",
      "JobState.JOB_STATE_PENDING\n",
      "Job still pending. Waiting additional 15 seconds.\n",
      "CustomJob projects/895222332033/locations/us-central1/customJobs/7809108987831386112 current state:\n",
      "JobState.JOB_STATE_PENDING\n",
      "CustomJob projects/895222332033/locations/us-central1/customJobs/7809108987831386112 current state:\n",
      "JobState.JOB_STATE_PENDING\n",
      "CustomJob projects/895222332033/locations/us-central1/customJobs/7809108987831386112 current state:\n",
      "JobState.JOB_STATE_PENDING\n",
      "Job still pending. Waiting additional 15 seconds.\n",
      "CustomJob projects/895222332033/locations/us-central1/customJobs/7809108987831386112 current state:\n",
      "JobState.JOB_STATE_PENDING\n",
      "CustomJob projects/895222332033/locations/us-central1/customJobs/7809108987831386112 current state:\n",
      "JobState.JOB_STATE_PENDING\n",
      "CustomJob projects/895222332033/locations/us-central1/customJobs/7809108987831386112 current state:\n",
      "JobState.JOB_STATE_PENDING\n",
      "Vertex AI training job has started.\n",
      "Associating projects/895222332033/locations/us-central1/metadataStores/default/contexts/tr-en-1-tr-en-1-infer-1-202209071909 to Experiment: tr-en-1\n",
      "Creating artifacts.\n",
      "b/jk-t5x-staging/o/experiments%2Ftr-en-1%2Fruns%2Ftr-en-1-infer-1-202209071909%2Fconfig.gin\n",
      "Gin config file not logged to metadata.\n",
      "b/jk-t5x-staging/o/experiments%2Ftr-en-1%2Fruns%2Ftr-en-1-infer-1-202209071909%2Fmodel-info.txt\n",
      "Model information/architecture not logged to metadata.\n",
      "local variable 'gin_config_artifact' referenced before assignment\n",
      "Model lineage not logged to metadata.\n",
      "Artifacts were created. Training job is still running.\n",
      "CustomJob projects/895222332033/locations/us-central1/customJobs/7809108987831386112 current state:\n",
      "JobState.JOB_STATE_RUNNING\n",
      "CustomJob projects/895222332033/locations/us-central1/customJobs/7809108987831386112 current state:\n",
      "JobState.JOB_STATE_RUNNING\n",
      "CustomJob projects/895222332033/locations/us-central1/customJobs/7809108987831386112 current state:\n",
      "JobState.JOB_STATE_RUNNING\n",
      "CustomJob projects/895222332033/locations/us-central1/customJobs/7809108987831386112 current state:\n",
      "JobState.JOB_STATE_RUNNING\n",
      "CustomJob projects/895222332033/locations/us-central1/customJobs/7809108987831386112 current state:\n",
      "JobState.JOB_STATE_RUNNING\n",
      "CustomJob projects/895222332033/locations/us-central1/customJobs/7809108987831386112 current state:\n",
      "JobState.JOB_STATE_RUNNING\n",
      "CustomJob projects/895222332033/locations/us-central1/customJobs/7809108987831386112 current state:\n",
      "JobState.JOB_STATE_RUNNING\n",
      "CustomJob projects/895222332033/locations/us-central1/customJobs/7809108987831386112 current state:\n",
      "JobState.JOB_STATE_RUNNING\n",
      "CustomJob projects/895222332033/locations/us-central1/customJobs/7809108987831386112 current state:\n",
      "JobState.JOB_STATE_RUNNING\n",
      "CustomJob projects/895222332033/locations/us-central1/customJobs/7809108987831386112 current state:\n",
      "JobState.JOB_STATE_RUNNING\n",
      "CustomJob projects/895222332033/locations/us-central1/customJobs/7809108987831386112 current state:\n",
      "JobState.JOB_STATE_RUNNING\n",
      "CustomJob projects/895222332033/locations/us-central1/customJobs/7809108987831386112 current state:\n",
      "JobState.JOB_STATE_RUNNING\n",
      "CustomJob projects/895222332033/locations/us-central1/customJobs/7809108987831386112 current state:\n",
      "JobState.JOB_STATE_RUNNING\n",
      "CustomJob projects/895222332033/locations/us-central1/customJobs/7809108987831386112 current state:\n",
      "JobState.JOB_STATE_RUNNING\n",
      "CustomJob projects/895222332033/locations/us-central1/customJobs/7809108987831386112 current state:\n",
      "JobState.JOB_STATE_RUNNING\n",
      "CustomJob projects/895222332033/locations/us-central1/customJobs/7809108987831386112 current state:\n",
      "JobState.JOB_STATE_RUNNING\n",
      "CustomJob projects/895222332033/locations/us-central1/customJobs/7809108987831386112 current state:\n",
      "JobState.JOB_STATE_RUNNING\n",
      "CustomJob projects/895222332033/locations/us-central1/customJobs/7809108987831386112 current state:\n",
      "JobState.JOB_STATE_RUNNING\n",
      "CustomJob projects/895222332033/locations/us-central1/customJobs/7809108987831386112 current state:\n",
      "JobState.JOB_STATE_RUNNING\n",
      "CustomJob projects/895222332033/locations/us-central1/customJobs/7809108987831386112 current state:\n",
      "JobState.JOB_STATE_RUNNING\n",
      "CustomJob projects/895222332033/locations/us-central1/customJobs/7809108987831386112 current state:\n",
      "JobState.JOB_STATE_RUNNING\n",
      "CustomJob projects/895222332033/locations/us-central1/customJobs/7809108987831386112 current state:\n",
      "JobState.JOB_STATE_RUNNING\n",
      "CustomJob projects/895222332033/locations/us-central1/customJobs/7809108987831386112 current state:\n",
      "JobState.JOB_STATE_RUNNING\n",
      "CustomJob projects/895222332033/locations/us-central1/customJobs/7809108987831386112 current state:\n",
      "JobState.JOB_STATE_SUCCEEDED\n",
      "CustomJob run completed. Resource name: projects/895222332033/locations/us-central1/customJobs/7809108987831386112\n"
     ]
    }
   ],
   "source": [
    "utils.submit_and_track_t5x_vertex_job(\n",
    "    custom_job=job,\n",
    "    job_display_name=INFER_RUN_ID,\n",
    "    run_name=INFER_RUN_ID,\n",
    "    experiment_name=EXPERIMENT_NAME,\n",
    "    execution_name=INFER_RUN_ID,\n",
    "    model_dir=INFER_RUN_DIR,\n",
    "    vertex_ai=vertex_ai,\n",
    "    run_mode=RUN_MODE\n",
    ")"
   ]
  },
  {
   "cell_type": "markdown",
   "metadata": {},
   "source": [
    "### Explore batch inference results\n",
    "\n",
    "The batch inference job writes inference results to the run directory that you\n",
    "configured. The output is written in JSON lines (`.jsonl`) format."
   ]
  },
  {
   "cell_type": "code",
   "execution_count": null,
   "metadata": {},
   "outputs": [],
   "source": [
    "! gsutil ls $INFER_RUN_DIR"
   ]
  },
  {
   "cell_type": "markdown",
   "metadata": {},
   "source": [
    "The following example is a snippet from the output of the batch inference job\n",
    "for the translation task from a fine-tuned\n",
    "[WMT English-to-German translation](https://www.tensorflow.org/datasets/catalog/wmt_t2t_translate)\n",
    "model.\n",
    "\n",
    "``` json\n",
    "{\n",
    "\t\"inputs\": {\n",
    "\t\t\"inputs_pretokenized\": \"translate English to German: As recently as last Tuesday, the Nasdaq indices were not calculated for one hour due to data transfer errors.\",\n",
    "\t\t\"targets_pretokenized\": \"Erst am Dienstag waren die Indizes der Nasdaq wegen Fehlern im Datentransport eine Stunde lang nicht berechnet worden.\"\n",
    "\t},\n",
    "\t\"prediction\": \"Erst am vergangenen Dienstag wurden die Nasdaq-Indexe wegen Daten\\u00fcbertragungen f\\u00fcr eine Stunde nicht berechnet.\"\n",
    "}\n",
    "```"
   ]
  },
  {
   "cell_type": "markdown",
   "metadata": {},
   "source": [
    "---"
   ]
  },
  {
   "cell_type": "markdown",
   "metadata": {},
   "source": [
    "## What's next?\n",
    "\n",
    "This notebook template covers how to run a T5X job for fine-tuning, evaluation,\n",
    "and inference tasks on Vertex AI.\n",
    "\n",
    "You can copy this notebook template for a specific task or dataset or\n",
    "configuration and then make changes as needed to run the T5X job on Vertex AI.\n",
    "Refer to other notebooks in the\n",
    "[notebooks directory](/) of this repo as\n",
    "inspiration."
   ]
  }
 ],
 "metadata": {
  "environment": {
   "kernel": "python3",
   "name": "common-cpu.m93",
   "type": "gcloud",
   "uri": "gcr.io/deeplearning-platform-release/base-cpu:m93"
  },
  "kernelspec": {
   "display_name": "Python 3",
   "language": "python",
   "name": "python3"
  },
  "language_info": {
   "codemirror_mode": {
    "name": "ipython",
    "version": 3
   },
   "file_extension": ".py",
   "mimetype": "text/x-python",
   "name": "python",
   "nbconvert_exporter": "python",
   "pygments_lexer": "ipython3",
   "version": "3.7.12"
  },
  "vscode": {
   "interpreter": {
    "hash": "802ea0518c7535cb908ec450b955e980eb8525a80af866d337675ca6fae56b98"
   }
  }
 },
 "nbformat": 4,
 "nbformat_minor": 4
}
